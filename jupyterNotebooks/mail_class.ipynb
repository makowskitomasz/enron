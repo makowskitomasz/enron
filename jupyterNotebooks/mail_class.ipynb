{
 "cells": [
  {
   "cell_type": "code",
   "execution_count": null,
   "metadata": {},
   "outputs": [],
   "source": [
    "import os"
   ]
  },
  {
   "cell_type": "code",
   "execution_count": null,
   "metadata": {},
   "outputs": [],
   "source": [
    "class email():\n",
    "    def __init__(self, id, message_id, data, subject, sender, receiver):\n",
    "        self._id = id\n",
    "        self._message_id = message_id\n",
    "        self._data = data\n",
    "        self._subject = subject\n",
    "        self._sender = sender\n",
    "        self._receiver = receiver\n",
    "        self._responded = None"
   ]
  },
  {
   "cell_type": "code",
   "execution_count": null,
   "metadata": {},
   "outputs": [],
   "source": [
    "def read_email(filename, message_ids, id):\n",
    "    with open(filename, 'r', errors='ignore') as file:\n",
    "        data = file.read()\n",
    "        # TODO: collect the data from the file    \n",
    "        \"\"\"\n",
    "        id = # assign id\n",
    "        message_id = # assign message_id\n",
    "        data = # assign data\n",
    "        subject = # assign subject\n",
    "        sender = # assign sender\n",
    "        receiver = # assign receiver\n",
    "        \"\"\"        \n",
    "        if message_id in message_ids:\n",
    "            return None\n",
    "        else:\n",
    "            email_object = email(id, message_id, data, subject, sender, receiver)\n",
    "            return email_object\n",
    "        "
   ]
  },
  {
   "cell_type": "code",
   "execution_count": null,
   "metadata": {},
   "outputs": [],
   "source": [
    "list_of_emails = []\n",
    "set_of_message_ids = set()\n",
    "counter = 0\n",
    "\n",
    "\n",
    "base_dir = \"maildir\"\n",
    "\n",
    "for root, dirs, files in os.walk(base_dir):\n",
    "    for file in files:\n",
    "        file_path = os.path.join(root, file)\n",
    "        tmp_email = read_email(file_path, set_of_message_ids, counter)\n",
    "        counter += 1\n",
    "        if tmp_email is not None:\n",
    "            list_of_emails.append(tmp_email)\n",
    "            set_of_message_ids.add(tmp_email._message_id)\n",
    "\n",
    "        \n"
   ]
  },
  {
   "cell_type": "code",
   "execution_count": null,
   "metadata": {},
   "outputs": [],
   "source": [
    "print(len(list_of_emails))\n",
    "print(len(set_of_message_ids))\n",
    "for email in list_of_emails:\n",
    "    print(f'id: {email._id}, message_id: {email._message_id}, data: {email._data}, subject: {email._subject}, sender: {email._sender}, receiver: {email._receiver}')\n"
   ]
  }
 ],
 "metadata": {
  "kernelspec": {
   "display_name": "ml",
   "language": "python",
   "name": "python3"
  },
  "language_info": {
   "codemirror_mode": {
    "name": "ipython",
    "version": 3
   },
   "file_extension": ".py",
   "mimetype": "text/x-python",
   "name": "python",
   "nbconvert_exporter": "python",
   "pygments_lexer": "ipython3",
   "version": "3.10.13"
  }
 },
 "nbformat": 4,
 "nbformat_minor": 2
}
