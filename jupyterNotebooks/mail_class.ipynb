{
 "cells": [
  {
   "cell_type": "code",
   "execution_count": 1,
   "metadata": {},
   "outputs": [],
   "source": [
    "import os\n",
    "import re\n",
    "import json\n",
    "from datetime import datetime"
   ]
  },
  {
   "cell_type": "code",
   "execution_count": 2,
   "metadata": {},
   "outputs": [],
   "source": [
    "class email:\n",
    "    def __init__(self, id, message_id, data, subject, sender, receiver, day_week, time, time_zone, date, beginning, farewell, answer, length, relative_path):\n",
    "        self._id = id\n",
    "        self._message_id = message_id\n",
    "        self._data = data\n",
    "        \n",
    "        # Verificar si 'subject' es una lista y convertirlo a cadena si es necesario\n",
    "        if isinstance(subject, list):\n",
    "            subject = \" \".join(subject)\n",
    "        \n",
    "        self._subject = subject\n",
    "        self._sender = sender\n",
    "        self._receiver = receiver\n",
    "        self._number_of_receivers = len(receiver)\n",
    "        self._day_week = day_week\n",
    "        self._time = time\n",
    "        self._time_zone = time_zone\n",
    "        self._date = date\n",
    "        self._responded = False\n",
    "        self._responses = set()\n",
    "        self._beginning = beginning\n",
    "        self._farewell = farewell\n",
    "        self._answer = answer\n",
    "        self._length = length\n",
    "\n",
    "        # Determinar si el correo es una respuesta y almacenar el resultado\n",
    "        self._is_reply = self._subject.startswith(\"Re: \")\n",
    "        \n",
    "        self._relative_path = relative_path\n",
    "\n",
    "# Luego, al crear una instancia de 'email', esta lógica se ejecutará automáticamente\n"
   ]
  },
  {
   "cell_type": "code",
   "execution_count": 3,
   "metadata": {},
   "outputs": [],
   "source": [
    "def email_to_dict(email):\n",
    "    return email.__dict__"
   ]
  },
  {
   "cell_type": "code",
   "execution_count": 4,
   "metadata": {},
   "outputs": [],
   "source": [
    "def read_email(filename, message_ids, id):\n",
    "    with open(filename, 'r', errors='ignore') as file:\n",
    "        data = file.read()\n",
    "        id = id\n",
    "        Date = r'Date: (\\w+), (\\d+ \\w+ \\d+) (\\d+:\\d+:\\d+) (-\\d{4} \\(.*?\\))'\n",
    "        coincidencias = re.findall(Date, data)\n",
    "        for day_week, date, time, time_zone in coincidencias:\n",
    "            day_week = day_week\n",
    "            date = date\n",
    "            time = time\n",
    "            time_zone = time_zone\n",
    "            \n",
    "        subject = re.findall(r'Subject: (.*)',data)\n",
    "        \n",
    "        message_id = re.search(r'Message-ID: (.*)',data)\n",
    "        if message_id:\n",
    "            message_id = message_id.group(1)\n",
    "            \n",
    "        sender_match = re.search(r'\\nFrom: (.*)', data)\n",
    "        if sender_match:\n",
    "            sender = sender_match.group(1)\n",
    "        else:\n",
    "            sender = None\n",
    "        \n",
    "        receiver = re.findall(r'\\nTo: (.*)',data)\n",
    "        input_data = str(receiver)[1:-1]\n",
    "        receiver_list = input_data.split(', ')\n",
    "        receiver_list = [receiver.strip() for receiver in receiver_list]\n",
    "        receiver_list = [s.replace(\"'\", \"\") for s in receiver_list]\n",
    "        receiver = [s.replace(\"\\\"\", \"'\") for s in receiver_list]\n",
    "        \n",
    "        \n",
    "        beginning_pattern = (r\"(?:\\b(?:hello|hi|hey|good (?:morning|afternoon|evening)|greetings|dear|my dearest|hi there|hello there|hi all|hi everyone|hello everyone|dearest|yo|what's up|hey pal|yolo|howdy|how's it going|how are you|what's happening|what's new|good to see you|long time no see|it's been a while|what's cracking|how's everything))\\b\")\n",
    "        beginning = re.findall(beginning_pattern, data, flags=re.IGNORECASE)\n",
    "        \n",
    "        \n",
    "        farewell_pattern = r\"(?:\\b(?:Sincerely|Regards|Best regards|Kind regards|Yours sincerely|Yours faithfully|Best wishes|Take care|Warm regards|With gratitude|With best regards|Cheers|Cordially|Respectfully|Until next time|All the best|Have a great day|Talk to you soon|Looking forward to hearing from you|With thanks|Later|Catch you later|Farewell|Peace out|Stay well|All my best|Goodbye|ByeFond regards|Take it easy|So long|See you around|Keep in touch|With warm regards|With all my heart)\\b)\"\n",
    "        farewell = re.findall(farewell_pattern, data, flags=re.IGNORECASE)\n",
    "        \n",
    "        if re.search(r\"-----Original Message-----\", data):\n",
    "            answer = 1\n",
    "        elif subject[0].startswith(\"Re:\"):\n",
    "            answer = 1\n",
    "        else:\n",
    "            answer = 0\n",
    "        \n",
    "        \n",
    "        body_b = data.find(\"X-FileName:\")\n",
    "        if body_b != -1:\n",
    "            end_l = data.find(\"\\n\", body_b)\n",
    "            if end_l != -1:\n",
    "                body = data[end_l + 1:]\n",
    "                words = body.split()\n",
    "        length = len(words)\n",
    "\n",
    "        relative_path = os.path.relpath(filename, start=os.path.join(os.getcwd(), '..'))\n",
    "        \n",
    "        if message_id in message_ids:\n",
    "            return None\n",
    "        else:\n",
    "            email_object = email(id, message_id, data, subject, sender, receiver, day_week,time, time_zone, date,beginning,farewell, answer, length, relative_path)\n",
    "            return email_object\n",
    "        "
   ]
  },
  {
   "cell_type": "code",
   "execution_count": 5,
   "metadata": {},
   "outputs": [],
   "source": [
    "list_of_emails = []\n",
    "set_of_message_ids = set()\n",
    "counter = 0\n",
    "\n",
    "\n",
    "# base_dir = \"../maildir\"\n",
    "base_dir = os.path.join(os.path.dirname(os.getcwd()), 'maildir')\n",
    "\n",
    "\n",
    "for root, dirs, files in os.walk(base_dir):\n",
    "    for file in files:\n",
    "        file_path = os.path.join(root, file)\n",
    "        tmp_email = read_email(file_path, set_of_message_ids, counter)\n",
    "        counter += 1\n",
    "        if tmp_email is not None:\n",
    "            list_of_emails.append(tmp_email)\n",
    "            set_of_message_ids.add(tmp_email._message_id)"
   ]
  },
  {
   "cell_type": "code",
   "execution_count": 6,
   "metadata": {},
   "outputs": [
    {
     "name": "stdout",
     "output_type": "stream",
     "text": [
      "Total de correos que son respuestas: 645\n"
     ]
    }
   ],
   "source": [
    "# Contar cuántos correos son respuestas, teniendo en cuenta que '_subject' podría ser una lista\n",
    "count_replies = 0\n",
    "for email in list_of_emails:\n",
    "    subject = email._subject\n",
    "    # Si '_subject' es una lista, unimos sus elementos en una cadena\n",
    "    if isinstance(subject, list):\n",
    "        subject = \" \".join(subject)\n",
    "    # Verificar si el asunto resultante contiene 'Re:'\n",
    "    if subject.startswith(\"Re: \"):\n",
    "        count_replies += 1\n",
    "\n",
    "# Imprimir el total de correos que son respuestas\n",
    "print(f'Total de correos que son respuestas: {count_replies}')"
   ]
  },
  {
   "cell_type": "code",
   "execution_count": 7,
   "metadata": {},
   "outputs": [],
   "source": [
    "def find_parent_mail(_id, _subject, _receiver, _date, _time):\n",
    "    _subject = re.sub(r'Re: ', '', _subject)\n",
    "    _subject = _subject.replace(' ', '')\n",
    "    for email in list_of_emails:\n",
    "        email_datetime_str = email._date + ' ' + email._time\n",
    "        email_datetime = datetime.strptime(email_datetime_str, '%d %b %Y %H:%M:%S')\n",
    "        _datetime_str = _date + ' ' + _time\n",
    "        _datetime = datetime.strptime(_datetime_str, '%d %b %Y %H:%M:%S')\n",
    "        if email._subject.replace(' ', '').replace('Re:', '') == _subject.replace(' ', '') and email._sender in _receiver and email_datetime < _datetime:\n",
    "            email._responded = True\n",
    "            email._responses.add(_id)"
   ]
  },
  {
   "cell_type": "code",
   "execution_count": 8,
   "metadata": {},
   "outputs": [],
   "source": [
    "for email in list_of_emails:\n",
    "    if email._is_reply:\n",
    "        id = email._id\n",
    "        subject = email._subject\n",
    "        receiver = email._receiver\n",
    "        date = email._date\n",
    "        time = email._time\n",
    "        find_parent_mail(id, subject, receiver, date, time)"
   ]
  },
  {
   "cell_type": "code",
   "execution_count": 9,
   "metadata": {},
   "outputs": [],
   "source": [
    "for email in list_of_emails:\n",
    "    email._responses = list(email._responses)"
   ]
  },
  {
   "cell_type": "code",
   "execution_count": 10,
   "metadata": {},
   "outputs": [],
   "source": [
    "for counter in range(1, len(list_of_emails), 100000):\n",
    "    emails_dict_list = [email_to_dict(email) for email in list_of_emails[(counter - 1):(counter + 99999)]]\n",
    "    file_path = f'../data/emails{(counter // 100000) + 1}.json'\n",
    "    with open(file_path, 'w') as json_file:\n",
    "        json.dump(emails_dict_list, json_file)"
   ]
  }
 ],
 "metadata": {
  "kernelspec": {
   "display_name": "Python 3 (ipykernel)",
   "language": "python",
   "name": "python3"
  },
  "language_info": {
   "codemirror_mode": {
    "name": "ipython",
    "version": 3
   },
   "file_extension": ".py",
   "mimetype": "text/x-python",
   "name": "python",
   "nbconvert_exporter": "python",
   "pygments_lexer": "ipython3",
   "version": "3.10.13"
  }
 },
 "nbformat": 4,
 "nbformat_minor": 2
}
