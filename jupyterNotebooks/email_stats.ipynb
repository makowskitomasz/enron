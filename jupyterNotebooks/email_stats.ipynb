{
 "cells": [
  {
   "cell_type": "code",
   "execution_count": null,
   "metadata": {},
   "outputs": [],
   "source": [
    "import email\n",
    "from email.parser import Parser\n",
    "import os\n",
    "import shutil\n",
    "import emails_dictionary\n",
    "import csv"
   ]
  },
  {
   "cell_type": "code",
   "execution_count": null,
   "metadata": {},
   "outputs": [],
   "source": [
    "def emails_are_equal(content1, content2):\n",
    "    parser = Parser()\n",
    "    email1 = parser.parsestr(content1)\n",
    "    email2 = parser.parsestr(content2)\n",
    "    \n",
    "    headers_to_compare = ['Date', 'From', 'To', 'Subject']\n",
    "    \n",
    "    for header in headers_to_compare:\n",
    "        if email1[header] != email2[header]:\n",
    "            return False\n",
    "\n",
    "    if email1.get_payload() != email2.get_payload():\n",
    "        return False\n",
    "    \n",
    "    return True"
   ]
  },
  {
   "cell_type": "code",
   "execution_count": null,
   "metadata": {},
   "outputs": [],
   "source": [
    "def is_email_address_in_to_field(to_field, email_address_list):\n",
    "    # Split the 'To' field into a list of email addresses\n",
    "    to_emails = to_field.split(', ')\n",
    "    # Check if any of the email addresses in the 'To' field is in the email_address_list\n",
    "    return any(email.strip() in email_address_list for email in to_emails)"
   ]
  },
  {
   "cell_type": "code",
   "execution_count": null,
   "metadata": {},
   "outputs": [],
   "source": [
    "def create_all_sent_and_all_received_directories(person, email_addresses):\n",
    "    rootdir = os.getcwd() + '/maildir/' + person  # Set the path to your maildir\n",
    "\n",
    "    # List all items in rootdir\n",
    "    items = os.listdir(rootdir)\n",
    "\n",
    "    # Construct paths for the new directories\n",
    "    all_sent_dir = os.path.join(rootdir, 'all_sent')\n",
    "    all_received_dir = os.path.join(rootdir, 'all_received')\n",
    "\n",
    "    # Create the directories if they don't exist\n",
    "    if not os.path.exists(all_sent_dir):\n",
    "        os.makedirs(all_sent_dir)\n",
    "    if not os.path.exists(all_received_dir):\n",
    "        os.makedirs(all_received_dir)\n",
    "\n",
    "    for item in items:\n",
    "        if item == 'all_sent' or item == 'all_received':\n",
    "            continue\n",
    "        # Construct the full path\n",
    "        item_path = os.path.join(rootdir, item)\n",
    "\n",
    "        # Check if the item is a directory\n",
    "        if os.path.isdir(item_path):\n",
    "\n",
    "            # List all items in the current directory\n",
    "            sub_items = os.listdir(item_path)\n",
    "\n",
    "            for sub_item in sub_items:\n",
    "                # Construct the full path\n",
    "                sub_item_path = os.path.join(item_path, sub_item)\n",
    "\n",
    "                # Check if the item is a file\n",
    "                if os.path.isfile(sub_item_path):\n",
    "                    # Open the file\n",
    "                    with open(sub_item_path, 'r', errors='ignore') as file:\n",
    "                        # Read the content of the file\n",
    "                        content = file.read()\n",
    "\n",
    "                        # Parse the content of the file\n",
    "                        parser = Parser()\n",
    "                        email = parser.parsestr(content)\n",
    "\n",
    "                        if email['From'] in email_addresses:\n",
    "                            shutil.copy(sub_item_path, all_sent_dir)\n",
    "                        elif email['To'] and is_email_address_in_to_field(email['To'], email_addresses):\n",
    "                            shutil.copy(sub_item_path, all_received_dir)\n",
    "                        else:\n",
    "                            pass\n"
   ]
  },
  {
   "cell_type": "code",
   "execution_count": null,
   "metadata": {},
   "outputs": [],
   "source": [
    "def drop_duplicated_emails(directory):\n",
    "    # List all items in the directory\n",
    "    all_items = os.listdir(directory)\n",
    "\n",
    "    for item in all_items:\n",
    "        # Construct the full path\n",
    "        item_path = os.path.join(directory, item)\n",
    "        \n",
    "        # Check if the item is a file\n",
    "        if os.path.isfile(item_path):\n",
    "            # Open the file\n",
    "            with open(item_path, 'r', errors='ignore') as file:\n",
    "                # Read the content of the file\n",
    "                content = file.read()\n",
    "                                \n",
    "                # List all items in the directory\n",
    "                all_items = os.listdir(directory)\n",
    "                \n",
    "                for other_item in all_items:\n",
    "                    # Construct the full path\n",
    "                    other_item_path = os.path.join(directory, other_item)\n",
    "                    \n",
    "                    # Check if the item is a file\n",
    "                    if os.path.isfile(other_item_path) and other_item_path != item_path:\n",
    "                        # Open the file\n",
    "                        with open(other_item_path, 'r', errors='ignore') as other_file:\n",
    "                            # Read the content of the file\n",
    "                            other_content = other_file.read()\n",
    "                            \n",
    "                            # Check if the emails are equal\n",
    "                            if emails_are_equal(content, other_content):\n",
    "                                # Remove the duplicate\n",
    "                                os.remove(other_item_path)"
   ]
  },
  {
   "cell_type": "code",
   "execution_count": null,
   "metadata": {},
   "outputs": [],
   "source": [
    "for person in emails_dictionary.emails:\n",
    "    email_addresses = emails_dictionary.emails[person]\n",
    "    create_all_sent_and_all_received_directories(person, email_addresses)\n",
    "    drop_duplicated_emails(os.getcwd() + '/maildir/' + person + '/all_sent')\n",
    "    drop_duplicated_emails(os.getcwd() + '/maildir/' + person + '/all_received')\n",
    "    print(person + ' done')"
   ]
  },
  {
   "cell_type": "code",
   "execution_count": null,
   "metadata": {},
   "outputs": [],
   "source": [
    "for person in emails_dictionary.emails:\n",
    "    # count all_sent and all_received\n",
    "    all_sent_dir = os.path.join(os.getcwd() + '/maildir/' + person, 'all_sent')\n",
    "    all_received_dir = os.path.join(os.getcwd() + '/maildir/' + person, 'all_received')\n",
    "    try:\n",
    "        all_sent_items = os.listdir(all_sent_dir)\n",
    "        all_received_items = os.listdir(all_received_dir)\n",
    "        print(person + ' all_sent: ' + str(len(all_sent_items)))\n",
    "        print(person + ' all_received: ' + str(len(all_received_items)))\n",
    "    except:\n",
    "        continue"
   ]
  },
  {
   "cell_type": "code",
   "execution_count": null,
   "metadata": {},
   "outputs": [],
   "source": [
    "email_stats = {}\n",
    "\n",
    "for person in emails_dictionary.emails:\n",
    "    try:\n",
    "        all_sent_dir = os.path.join(os.getcwd() + '/maildir/' + person, 'all_sent')\n",
    "        all_received_dir = os.path.join(os.getcwd() + '/maildir/' + person, 'all_received')\n",
    "        all_sent_items = os.listdir(all_sent_dir)\n",
    "        all_received_items = os.listdir(all_received_dir)\n",
    "        email_stats[person] = {'sent': len(all_sent_items), 'received': len(all_received_items)}\n",
    "    except:\n",
    "        continue"
   ]
  },
  {
   "cell_type": "code",
   "execution_count": null,
   "metadata": {},
   "outputs": [],
   "source": [
    "filename = \"email_stats.csv\"\n",
    "\n",
    "with open(filename, 'w', newline='') as csvfile:\n",
    "    writer = csv.writer(csvfile)\n",
    "    \n",
    "    writer.writerow(['person', 'sent', 'received'])\n",
    "    \n",
    "    for person, stats in email_stats.items():\n",
    "        writer.writerow([person, stats['sent'], stats['received']])"
   ]
  }
 ],
 "metadata": {
  "kernelspec": {
   "display_name": "ml",
   "language": "python",
   "name": "python3"
  },
  "language_info": {
   "codemirror_mode": {
    "name": "ipython",
    "version": 3
   },
   "file_extension": ".py",
   "mimetype": "text/x-python",
   "name": "python",
   "nbconvert_exporter": "python",
   "pygments_lexer": "ipython3",
   "version": "3.10.13"
  }
 },
 "nbformat": 4,
 "nbformat_minor": 2
}
