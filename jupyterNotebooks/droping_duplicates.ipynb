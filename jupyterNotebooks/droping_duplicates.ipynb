{
 "cells": [
  {
   "cell_type": "code",
   "execution_count": 35,
   "metadata": {},
   "outputs": [],
   "source": [
    "import os\n",
    "from email.parser import Parser\n",
    "import hashlib"
   ]
  },
  {
   "cell_type": "markdown",
   "metadata": {},
   "source": [
    "The code in the cell below was used only to facilitate the work with the emails dataset. The names of the files have been renamed and moved to one common directory. Code is commented not to run it accidentally."
   ]
  },
  {
   "cell_type": "code",
   "execution_count": null,
   "metadata": {},
   "outputs": [],
   "source": [
    "\"\"\"\n",
    "root_dir = '/home/makowskitomasz/enron/maildir'\n",
    "\n",
    "for dir_path, subdirs, files in os.walk(root_dir):\n",
    "    for file_name in files:\n",
    "        file_path = os.path.join(dir_path, file_name)\n",
    "        \n",
    "        # Check if the file is a regular file\n",
    "        if os.path.isfile(file_path):\n",
    "            # Get the relative path of the file from root_dir\n",
    "            relative_path = os.path.relpath(dir_path, root_dir)\n",
    "            \n",
    "            # Replace directory separators with underscores\n",
    "            relative_path_underscores = relative_path.replace(os.path.sep, '_')\n",
    "            \n",
    "            # New file name with relative path included\n",
    "            new_file_name = f\"{relative_path_underscores}_{file_name}\"\n",
    "            \n",
    "            # New file path with relative path included\n",
    "            new_file_path = os.path.join(dir_path, new_file_name)\n",
    "            \n",
    "            # Rename the file\n",
    "            os.rename(file_path, new_file_path)\n",
    "\"\"\""
   ]
  },
  {
   "cell_type": "markdown",
   "metadata": {},
   "source": [
    "Here it is iterated through all the mails and based on its (date, from, to and subject) which are unique for each mail the hash value is created. If the hash value is already in the set of emails, it means that the checked email is a duplicate and it can be safely removed without any loss of data (it was just stored by a person in two different directories). Thanks to this operation, the number of mails in the dataset is decreased from 517323 to 248113."
   ]
  },
  {
   "cell_type": "code",
   "execution_count": 31,
   "metadata": {},
   "outputs": [],
   "source": [
    "root_dir = '/home/makowskitomasz/enron/all_mails_dir/'\n",
    "parser = Parser()"
   ]
  },
  {
   "cell_type": "code",
   "execution_count": 43,
   "metadata": {},
   "outputs": [],
   "source": [
    "hashes = set()"
   ]
  },
  {
   "cell_type": "code",
   "execution_count": 44,
   "metadata": {},
   "outputs": [
    {
     "name": "stdout",
     "output_type": "stream",
     "text": [
      "517323\n"
     ]
    }
   ],
   "source": [
    "print(len(os.listdir(root_dir)))"
   ]
  },
  {
   "cell_type": "code",
   "execution_count": 47,
   "metadata": {},
   "outputs": [],
   "source": [
    "for file in os.listdir(root_dir):\n",
    "    file_path = os.path.join(root_dir, file)\n",
    "    with open(file_path, 'r', encoding='latin-1') as email:\n",
    "        content = email.read()\n",
    "        content = parser.parsestr(content)\n",
    "        header_string = f\"{content['Date']}|{content['From']}|{content['To']}|{content['Subject']}\"\n",
    "        hashed_value = hashlib.sha256(header_string.encode()).hexdigest()\n",
    "        if hashed_value in hashes:\n",
    "            os.remove(file_path)\n",
    "        else:\n",
    "            hashes.add(hashed_value)"
   ]
  },
  {
   "cell_type": "code",
   "execution_count": 48,
   "metadata": {},
   "outputs": [
    {
     "name": "stdout",
     "output_type": "stream",
     "text": [
      "248113\n"
     ]
    }
   ],
   "source": [
    "print(len(os.listdir(root_dir)))"
   ]
  }
 ],
 "metadata": {
  "kernelspec": {
   "display_name": "ml",
   "language": "python",
   "name": "python3"
  },
  "language_info": {
   "codemirror_mode": {
    "name": "ipython",
    "version": 3
   },
   "file_extension": ".py",
   "mimetype": "text/x-python",
   "name": "python",
   "nbconvert_exporter": "python",
   "pygments_lexer": "ipython3",
   "version": "3.10.13"
  }
 },
 "nbformat": 4,
 "nbformat_minor": 2
}
