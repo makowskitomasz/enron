{
 "cells": [
  {
   "cell_type": "code",
   "execution_count": 1,
   "id": "fa67c747",
   "metadata": {
    "_cell_guid": "b1076dfc-b9ad-4769-8c92-a6c4dae69d19",
    "_uuid": "8f2839f25d086af736a60e9eeb907d3b93b6e0e5",
    "execution": {
     "iopub.execute_input": "2024-05-15T19:40:27.289348Z",
     "iopub.status.busy": "2024-05-15T19:40:27.288946Z",
     "iopub.status.idle": "2024-05-15T19:40:30.532456Z",
     "shell.execute_reply": "2024-05-15T19:40:30.531338Z"
    },
    "papermill": {
     "duration": 3.254868,
     "end_time": "2024-05-15T19:40:30.535563",
     "exception": false,
     "start_time": "2024-05-15T19:40:27.280695",
     "status": "completed"
    },
    "tags": []
   },
   "outputs": [],
   "source": [
    "import pandas as pd\n",
    "from sklearn.model_selection import train_test_split\n",
    "from sklearn.ensemble import RandomForestClassifier, GradientBoostingClassifier\n",
    "from sklearn.svm import SVC\n",
    "from xgboost import XGBClassifier\n",
    "from sklearn.metrics import accuracy_score, f1_score\n",
    "from sklearn.model_selection import GridSearchCV\n",
    "from scipy.sparse import csr_matrix\n",
    "from sklearn.utils import resample\n",
    "import math\n",
    "import joblib\n",
    "import matplotlib.pyplot as plt\n",
    "import seaborn as sns\n",
    "from sklearn.metrics import confusion_matrix"
   ]
  },
  {
   "cell_type": "code",
   "execution_count": 2,
   "id": "c769668a",
   "metadata": {
    "execution": {
     "iopub.execute_input": "2024-05-15T19:40:30.549522Z",
     "iopub.status.busy": "2024-05-15T19:40:30.548937Z",
     "iopub.status.idle": "2024-05-15T19:40:32.703872Z",
     "shell.execute_reply": "2024-05-15T19:40:32.702849Z"
    },
    "papermill": {
     "duration": 2.164962,
     "end_time": "2024-05-15T19:40:32.706536",
     "exception": false,
     "start_time": "2024-05-15T19:40:30.541574",
     "status": "completed"
    },
    "tags": []
   },
   "outputs": [],
   "source": [
    "df = pd.read_pickle('../data/all_enron_emails_preprocessed.pkl')"
   ]
  },
  {
   "cell_type": "code",
   "execution_count": 3,
   "id": "024a254d",
   "metadata": {
    "execution": {
     "iopub.execute_input": "2024-05-15T19:40:32.721037Z",
     "iopub.status.busy": "2024-05-15T19:40:32.720207Z",
     "iopub.status.idle": "2024-05-15T19:40:32.983566Z",
     "shell.execute_reply": "2024-05-15T19:40:32.982262Z"
    },
    "papermill": {
     "duration": 0.273476,
     "end_time": "2024-05-15T19:40:32.986469",
     "exception": false,
     "start_time": "2024-05-15T19:40:32.712993",
     "status": "completed"
    },
    "tags": []
   },
   "outputs": [],
   "source": [
    "df.drop(['responses', 'is_reply'], axis=1, inplace=True)\n",
    "df.fillna(0, inplace=True)"
   ]
  },
  {
   "cell_type": "code",
   "execution_count": 4,
   "id": "c7a77be6",
   "metadata": {
    "execution": {
     "iopub.execute_input": "2024-05-15T19:40:32.999709Z",
     "iopub.status.busy": "2024-05-15T19:40:32.999298Z",
     "iopub.status.idle": "2024-05-15T19:41:30.810563Z",
     "shell.execute_reply": "2024-05-15T19:41:30.809453Z"
    },
    "papermill": {
     "duration": 57.820879,
     "end_time": "2024-05-15T19:41:30.813286",
     "exception": false,
     "start_time": "2024-05-15T19:40:32.992407",
     "status": "completed"
    },
    "tags": []
   },
   "outputs": [],
   "source": [
    "train, test = train_test_split(df, test_size=0.2, random_state=42)"
   ]
  },
  {
   "cell_type": "code",
   "execution_count": 8,
   "id": "516b1099",
   "metadata": {
    "execution": {
     "iopub.execute_input": "2024-05-15T19:41:30.884298Z",
     "iopub.status.busy": "2024-05-15T19:41:30.883601Z",
     "iopub.status.idle": "2024-05-15T19:41:31.166891Z",
     "shell.execute_reply": "2024-05-15T19:41:31.165669Z"
    },
    "papermill": {
     "duration": 0.292946,
     "end_time": "2024-05-15T19:41:31.169799",
     "exception": false,
     "start_time": "2024-05-15T19:41:30.876853",
     "status": "completed"
    },
    "tags": []
   },
   "outputs": [],
   "source": [
    "y_train = train['answered']\n",
    "X_train = train.drop(columns='answered')\n",
    "y_test = test['answered']\n",
    "X_test = test.drop(columns='answered')"
   ]
  },
  {
   "cell_type": "code",
   "execution_count": 9,
   "id": "d35e9bbe",
   "metadata": {
    "execution": {
     "iopub.execute_input": "2024-05-15T19:41:31.183212Z",
     "iopub.status.busy": "2024-05-15T19:41:31.182681Z",
     "iopub.status.idle": "2024-05-15T19:41:33.427387Z",
     "shell.execute_reply": "2024-05-15T19:41:33.425927Z"
    },
    "papermill": {
     "duration": 2.254852,
     "end_time": "2024-05-15T19:41:33.430519",
     "exception": false,
     "start_time": "2024-05-15T19:41:31.175667",
     "status": "completed"
    },
    "tags": []
   },
   "outputs": [],
   "source": [
    "X_train = X_train.to_numpy()\n",
    "X_test = X_test.to_numpy()"
   ]
  },
  {
   "cell_type": "code",
   "execution_count": 11,
   "id": "d05478b3",
   "metadata": {
    "execution": {
     "iopub.execute_input": "2024-05-15T19:41:33.465213Z",
     "iopub.status.busy": "2024-05-15T19:41:33.464690Z",
     "iopub.status.idle": "2024-05-16T05:12:15.306179Z",
     "shell.execute_reply": "2024-05-16T05:12:15.304271Z"
    },
    "papermill": {
     "duration": 34241.852171,
     "end_time": "2024-05-16T05:12:15.309562",
     "exception": false,
     "start_time": "2024-05-15T19:41:33.457391",
     "status": "completed"
    },
    "tags": []
   },
   "outputs": [
    {
     "name": "stdout",
     "output_type": "stream",
     "text": [
      "Fitting 3 folds for each of 81 candidates, totalling 243 fits\n",
      "[CV] END learning_rate=0.01, max_depth=3, min_child_weight=1, n_estimators=100; total time= 7.4min\n",
      "[CV] END learning_rate=0.01, max_depth=3, min_child_weight=1, n_estimators=200; total time=13.5min\n",
      "[CV] END learning_rate=0.01, max_depth=3, min_child_weight=3, n_estimators=100; total time= 7.1min\n",
      "[CV] END learning_rate=0.01, max_depth=3, min_child_weight=3, n_estimators=200; total time=13.4min\n",
      "[CV] END learning_rate=0.01, max_depth=3, min_child_weight=5, n_estimators=100; total time= 7.1min\n",
      "[CV] END learning_rate=0.01, max_depth=5, min_child_weight=1, n_estimators=50; total time= 5.7min\n",
      "[CV] END learning_rate=0.01, max_depth=5, min_child_weight=1, n_estimators=50; total time= 5.7min\n",
      "[CV] END learning_rate=0.01, max_depth=5, min_child_weight=1, n_estimators=100; total time=10.4min\n",
      "[CV] END learning_rate=0.01, max_depth=5, min_child_weight=1, n_estimators=200; total time=18.3min\n",
      "[CV] END learning_rate=0.01, max_depth=5, min_child_weight=3, n_estimators=200; total time=17.9min\n",
      "[CV] END learning_rate=0.01, max_depth=5, min_child_weight=5, n_estimators=50; total time= 5.6min\n",
      "[CV] END learning_rate=0.01, max_depth=5, min_child_weight=5, n_estimators=100; total time=10.2min\n",
      "[CV] END learning_rate=0.01, max_depth=7, min_child_weight=1, n_estimators=50; total time= 7.1min\n",
      "[CV] END learning_rate=0.01, max_depth=7, min_child_weight=1, n_estimators=50; total time= 7.1min\n",
      "[CV] END learning_rate=0.01, max_depth=7, min_child_weight=1, n_estimators=100; total time=13.2min\n",
      "[CV] END learning_rate=0.01, max_depth=7, min_child_weight=1, n_estimators=200; total time=23.2min\n",
      "[CV] END learning_rate=0.01, max_depth=7, min_child_weight=3, n_estimators=100; total time=13.4min\n",
      "[CV] END learning_rate=0.01, max_depth=7, min_child_weight=5, n_estimators=50; total time= 8.5min\n",
      "[CV] END learning_rate=0.01, max_depth=7, min_child_weight=5, n_estimators=50; total time= 8.4min\n",
      "[CV] END learning_rate=0.01, max_depth=7, min_child_weight=5, n_estimators=100; total time=15.7min\n",
      "[CV] END learning_rate=0.01, max_depth=7, min_child_weight=5, n_estimators=200; total time=27.2min\n",
      "[CV] END learning_rate=0.1, max_depth=3, min_child_weight=1, n_estimators=200; total time=11.1min\n",
      "[CV] END learning_rate=0.1, max_depth=3, min_child_weight=3, n_estimators=100; total time= 6.3min\n",
      "[CV] END learning_rate=0.1, max_depth=3, min_child_weight=3, n_estimators=200; total time=11.1min\n",
      "[CV] END learning_rate=0.1, max_depth=3, min_child_weight=5, n_estimators=100; total time= 6.3min\n",
      "[CV] END learning_rate=0.1, max_depth=5, min_child_weight=1, n_estimators=50; total time= 4.6min\n",
      "[CV] END learning_rate=0.1, max_depth=5, min_child_weight=1, n_estimators=50; total time= 4.6min\n",
      "[CV] END learning_rate=0.1, max_depth=5, min_child_weight=1, n_estimators=100; total time= 7.5min\n",
      "[CV] END learning_rate=0.1, max_depth=5, min_child_weight=1, n_estimators=200; total time=12.9min\n",
      "[CV] END learning_rate=0.1, max_depth=5, min_child_weight=3, n_estimators=200; total time=12.5min\n",
      "[CV] END learning_rate=0.1, max_depth=5, min_child_weight=5, n_estimators=50; total time= 4.5min\n",
      "[CV] END learning_rate=0.1, max_depth=5, min_child_weight=5, n_estimators=100; total time= 7.3min\n",
      "[CV] END learning_rate=0.1, max_depth=5, min_child_weight=5, n_estimators=200; total time=12.6min\n",
      "[CV] END learning_rate=0.1, max_depth=7, min_child_weight=1, n_estimators=200; total time=14.9min\n",
      "[CV] END learning_rate=0.1, max_depth=7, min_child_weight=3, n_estimators=50; total time= 5.3min\n",
      "[CV] END learning_rate=0.1, max_depth=7, min_child_weight=3, n_estimators=100; total time= 8.5min\n",
      "[CV] END learning_rate=0.1, max_depth=7, min_child_weight=3, n_estimators=200; total time=14.2min\n",
      "[CV] END learning_rate=0.1, max_depth=7, min_child_weight=5, n_estimators=200; total time=13.8min\n",
      "[CV] END learning_rate=0.2, max_depth=3, min_child_weight=1, n_estimators=50; total time= 3.6min\n",
      "[CV] END learning_rate=0.2, max_depth=3, min_child_weight=1, n_estimators=100; total time= 6.1min\n",
      "[CV] END learning_rate=0.2, max_depth=3, min_child_weight=1, n_estimators=200; total time=10.8min\n",
      "[CV] END learning_rate=0.2, max_depth=3, min_child_weight=3, n_estimators=100; total time= 6.1min\n",
      "[CV] END learning_rate=0.2, max_depth=3, min_child_weight=5, n_estimators=50; total time= 3.6min\n",
      "[CV] END learning_rate=0.2, max_depth=3, min_child_weight=5, n_estimators=50; total time= 3.5min\n",
      "[CV] END learning_rate=0.2, max_depth=3, min_child_weight=5, n_estimators=100; total time= 6.1min\n",
      "[CV] END learning_rate=0.2, max_depth=3, min_child_weight=5, n_estimators=200; total time=10.7min\n",
      "[CV] END learning_rate=0.2, max_depth=5, min_child_weight=1, n_estimators=100; total time= 7.0min\n",
      "[CV] END learning_rate=0.2, max_depth=5, min_child_weight=1, n_estimators=200; total time=12.2min\n",
      "[CV] END learning_rate=0.2, max_depth=5, min_child_weight=3, n_estimators=100; total time= 6.8min\n",
      "[CV] END learning_rate=0.2, max_depth=5, min_child_weight=5, n_estimators=50; total time= 4.1min\n",
      "[CV] END learning_rate=0.2, max_depth=5, min_child_weight=5, n_estimators=50; total time= 4.1min\n",
      "[CV] END learning_rate=0.2, max_depth=5, min_child_weight=5, n_estimators=100; total time= 6.8min\n",
      "[CV] END learning_rate=0.2, max_depth=5, min_child_weight=5, n_estimators=200; total time=12.1min\n",
      "[CV] END learning_rate=0.2, max_depth=7, min_child_weight=1, n_estimators=100; total time= 8.0min\n",
      "[CV] END learning_rate=0.2, max_depth=7, min_child_weight=1, n_estimators=200; total time=13.5min\n",
      "[CV] END learning_rate=0.2, max_depth=7, min_child_weight=3, n_estimators=200; total time=13.2min\n",
      "[CV] END learning_rate=0.2, max_depth=7, min_child_weight=5, n_estimators=50; total time= 4.8min\n",
      "[CV] END learning_rate=0.2, max_depth=7, min_child_weight=5, n_estimators=100; total time= 7.4min\n",
      "[CV] END learning_rate=0.01, max_depth=3, min_child_weight=1, n_estimators=50; total time= 4.4min\n",
      "[CV] END learning_rate=0.01, max_depth=3, min_child_weight=1, n_estimators=100; total time= 7.3min\n",
      "[CV] END learning_rate=0.01, max_depth=3, min_child_weight=1, n_estimators=200; total time=13.5min\n",
      "[CV] END learning_rate=0.01, max_depth=3, min_child_weight=3, n_estimators=200; total time=13.4min\n",
      "[CV] END learning_rate=0.01, max_depth=3, min_child_weight=5, n_estimators=100; total time= 7.1min\n",
      "[CV] END learning_rate=0.01, max_depth=3, min_child_weight=5, n_estimators=200; total time=13.4min\n",
      "[CV] END learning_rate=0.01, max_depth=5, min_child_weight=1, n_estimators=100; total time=10.5min\n",
      "[CV] END learning_rate=0.01, max_depth=5, min_child_weight=1, n_estimators=200; total time=18.0min\n",
      "[CV] END learning_rate=0.01, max_depth=5, min_child_weight=3, n_estimators=100; total time=10.5min\n",
      "[CV] END learning_rate=0.01, max_depth=5, min_child_weight=5, n_estimators=50; total time= 5.7min\n",
      "[CV] END learning_rate=0.01, max_depth=5, min_child_weight=5, n_estimators=50; total time= 5.6min\n",
      "[CV] END learning_rate=0.01, max_depth=5, min_child_weight=5, n_estimators=100; total time=10.2min\n",
      "[CV] END learning_rate=0.01, max_depth=5, min_child_weight=5, n_estimators=200; total time=17.3min\n",
      "[CV] END learning_rate=0.01, max_depth=7, min_child_weight=1, n_estimators=100; total time=13.2min\n",
      "[CV] END learning_rate=0.01, max_depth=7, min_child_weight=1, n_estimators=200; total time=23.5min\n",
      "[CV] END learning_rate=0.01, max_depth=7, min_child_weight=3, n_estimators=200; total time=25.7min\n",
      "[CV] END learning_rate=0.01, max_depth=7, min_child_weight=5, n_estimators=50; total time= 8.3min\n",
      "[CV] END learning_rate=0.01, max_depth=7, min_child_weight=5, n_estimators=100; total time=15.6min\n",
      "[CV] END learning_rate=0.1, max_depth=3, min_child_weight=1, n_estimators=50; total time= 4.8min\n",
      "[CV] END learning_rate=0.1, max_depth=3, min_child_weight=1, n_estimators=50; total time= 4.5min\n",
      "[CV] END learning_rate=0.1, max_depth=3, min_child_weight=1, n_estimators=50; total time= 4.6min\n",
      "[CV] END learning_rate=0.1, max_depth=3, min_child_weight=1, n_estimators=100; total time= 7.7min\n",
      "[CV] END learning_rate=0.1, max_depth=3, min_child_weight=1, n_estimators=100; total time= 6.4min\n",
      "[CV] END learning_rate=0.1, max_depth=3, min_child_weight=3, n_estimators=50; total time= 3.7min\n",
      "[CV] END learning_rate=0.1, max_depth=3, min_child_weight=3, n_estimators=50; total time= 3.6min\n",
      "[CV] END learning_rate=0.1, max_depth=3, min_child_weight=3, n_estimators=100; total time= 6.2min\n",
      "[CV] END learning_rate=0.1, max_depth=3, min_child_weight=3, n_estimators=200; total time=11.1min\n",
      "[CV] END learning_rate=0.1, max_depth=3, min_child_weight=5, n_estimators=200; total time=11.1min\n",
      "[CV] END learning_rate=0.1, max_depth=5, min_child_weight=1, n_estimators=50; total time= 4.6min\n",
      "[CV] END learning_rate=0.1, max_depth=5, min_child_weight=1, n_estimators=100; total time= 7.6min\n",
      "[CV] END learning_rate=0.1, max_depth=5, min_child_weight=3, n_estimators=50; total time= 4.5min\n",
      "[CV] END learning_rate=0.1, max_depth=5, min_child_weight=3, n_estimators=50; total time= 4.4min\n",
      "[CV] END learning_rate=0.1, max_depth=5, min_child_weight=3, n_estimators=100; total time= 7.3min\n",
      "[CV] END learning_rate=0.1, max_depth=5, min_child_weight=3, n_estimators=200; total time=12.5min\n",
      "[CV] END learning_rate=0.1, max_depth=5, min_child_weight=5, n_estimators=100; total time= 7.3min\n",
      "[CV] END learning_rate=0.1, max_depth=7, min_child_weight=1, n_estimators=50; total time= 5.5min\n",
      "[CV] END learning_rate=0.1, max_depth=7, min_child_weight=1, n_estimators=50; total time= 5.4min\n",
      "[CV] END learning_rate=0.1, max_depth=7, min_child_weight=1, n_estimators=100; total time= 9.0min\n",
      "[CV] END learning_rate=0.1, max_depth=7, min_child_weight=1, n_estimators=200; total time=14.7min\n",
      "[CV] END learning_rate=0.1, max_depth=7, min_child_weight=3, n_estimators=100; total time= 8.5min\n",
      "[CV] END learning_rate=0.1, max_depth=7, min_child_weight=5, n_estimators=50; total time= 5.3min\n",
      "[CV] END learning_rate=0.1, max_depth=7, min_child_weight=5, n_estimators=50; total time= 5.2min\n",
      "[CV] END learning_rate=0.1, max_depth=7, min_child_weight=5, n_estimators=100; total time= 8.3min\n",
      "[CV] END learning_rate=0.1, max_depth=7, min_child_weight=5, n_estimators=200; total time=13.9min\n",
      "[CV] END learning_rate=0.2, max_depth=3, min_child_weight=1, n_estimators=100; total time= 6.2min\n",
      "[CV] END learning_rate=0.2, max_depth=3, min_child_weight=3, n_estimators=50; total time= 3.5min\n",
      "[CV] END learning_rate=0.2, max_depth=3, min_child_weight=3, n_estimators=50; total time= 3.5min\n",
      "[CV] END learning_rate=0.2, max_depth=3, min_child_weight=3, n_estimators=100; total time= 6.0min\n",
      "[CV] END learning_rate=0.2, max_depth=3, min_child_weight=3, n_estimators=200; total time=11.0min\n",
      "[CV] END learning_rate=0.2, max_depth=3, min_child_weight=5, n_estimators=200; total time=10.7min\n",
      "[CV] END learning_rate=0.2, max_depth=5, min_child_weight=1, n_estimators=50; total time= 4.1min\n",
      "[CV] END learning_rate=0.2, max_depth=5, min_child_weight=1, n_estimators=100; total time= 6.8min\n",
      "[CV] END learning_rate=0.2, max_depth=5, min_child_weight=3, n_estimators=50; total time= 4.2min\n",
      "[CV] END learning_rate=0.2, max_depth=5, min_child_weight=3, n_estimators=50; total time= 4.1min\n",
      "[CV] END learning_rate=0.2, max_depth=5, min_child_weight=3, n_estimators=100; total time= 6.9min\n",
      "[CV] END learning_rate=0.2, max_depth=5, min_child_weight=3, n_estimators=200; total time=12.0min\n",
      "[CV] END learning_rate=0.2, max_depth=5, min_child_weight=5, n_estimators=100; total time= 6.8min\n",
      "[CV] END learning_rate=0.2, max_depth=5, min_child_weight=5, n_estimators=200; total time=12.1min\n",
      "[CV] END learning_rate=0.2, max_depth=7, min_child_weight=1, n_estimators=200; total time=13.6min\n",
      "[CV] END learning_rate=0.2, max_depth=7, min_child_weight=3, n_estimators=50; total time= 4.7min\n",
      "[CV] END learning_rate=0.2, max_depth=7, min_child_weight=3, n_estimators=100; total time= 7.5min\n",
      "[CV] END learning_rate=0.2, max_depth=7, min_child_weight=3, n_estimators=200; total time=13.2min\n",
      "[CV] END learning_rate=0.2, max_depth=7, min_child_weight=5, n_estimators=200; total time=12.1min\n",
      "[CV] END learning_rate=0.01, max_depth=3, min_child_weight=1, n_estimators=50; total time= 4.4min\n",
      "[CV] END learning_rate=0.01, max_depth=3, min_child_weight=1, n_estimators=100; total time= 7.4min\n",
      "[CV] END learning_rate=0.01, max_depth=3, min_child_weight=3, n_estimators=50; total time= 4.1min\n",
      "[CV] END learning_rate=0.01, max_depth=3, min_child_weight=3, n_estimators=50; total time= 4.1min\n",
      "[CV] END learning_rate=0.01, max_depth=3, min_child_weight=3, n_estimators=100; total time= 7.2min\n",
      "[CV] END learning_rate=0.01, max_depth=3, min_child_weight=3, n_estimators=200; total time=13.4min\n",
      "[CV] END learning_rate=0.01, max_depth=3, min_child_weight=5, n_estimators=100; total time= 7.1min\n",
      "[CV] END learning_rate=0.01, max_depth=3, min_child_weight=5, n_estimators=200; total time=13.6min\n",
      "[CV] END learning_rate=0.01, max_depth=5, min_child_weight=1, n_estimators=200; total time=18.3min\n",
      "[CV] END learning_rate=0.01, max_depth=5, min_child_weight=3, n_estimators=50; total time= 5.8min\n",
      "[CV] END learning_rate=0.01, max_depth=5, min_child_weight=3, n_estimators=100; total time=10.4min\n",
      "[CV] END learning_rate=0.01, max_depth=5, min_child_weight=3, n_estimators=200; total time=17.7min\n",
      "[CV] END learning_rate=0.01, max_depth=5, min_child_weight=5, n_estimators=200; total time=17.5min\n",
      "[CV] END learning_rate=0.01, max_depth=7, min_child_weight=1, n_estimators=50; total time= 7.1min\n",
      "[CV] END learning_rate=0.01, max_depth=7, min_child_weight=1, n_estimators=100; total time=13.3min\n",
      "[CV] END learning_rate=0.01, max_depth=7, min_child_weight=3, n_estimators=50; total time= 6.9min\n",
      "[CV] END learning_rate=0.01, max_depth=7, min_child_weight=3, n_estimators=50; total time= 7.0min\n",
      "[CV] END learning_rate=0.01, max_depth=7, min_child_weight=3, n_estimators=100; total time=12.9min\n",
      "[CV] END learning_rate=0.01, max_depth=7, min_child_weight=3, n_estimators=200; total time=26.6min\n",
      "[CV] END learning_rate=0.01, max_depth=7, min_child_weight=5, n_estimators=100; total time=15.7min\n",
      "[CV] END learning_rate=0.01, max_depth=7, min_child_weight=5, n_estimators=200; total time=27.2min\n",
      "[CV] END learning_rate=0.1, max_depth=3, min_child_weight=1, n_estimators=200; total time=11.2min\n",
      "[CV] END learning_rate=0.1, max_depth=3, min_child_weight=3, n_estimators=100; total time= 6.4min\n",
      "[CV] END learning_rate=0.1, max_depth=3, min_child_weight=5, n_estimators=50; total time= 3.7min\n",
      "[CV] END learning_rate=0.1, max_depth=3, min_child_weight=5, n_estimators=50; total time= 3.7min\n",
      "[CV] END learning_rate=0.1, max_depth=3, min_child_weight=5, n_estimators=100; total time= 6.4min\n",
      "[CV] END learning_rate=0.1, max_depth=3, min_child_weight=5, n_estimators=200; total time=11.0min\n",
      "[CV] END learning_rate=0.1, max_depth=5, min_child_weight=1, n_estimators=100; total time= 7.5min\n",
      "[CV] END learning_rate=0.1, max_depth=5, min_child_weight=1, n_estimators=200; total time=12.9min\n",
      "[CV] END learning_rate=0.1, max_depth=5, min_child_weight=3, n_estimators=100; total time= 7.5min\n",
      "[CV] END learning_rate=0.1, max_depth=5, min_child_weight=5, n_estimators=50; total time= 4.5min\n",
      "[CV] END learning_rate=0.1, max_depth=5, min_child_weight=5, n_estimators=50; total time= 4.4min\n",
      "[CV] END learning_rate=0.1, max_depth=5, min_child_weight=5, n_estimators=100; total time= 7.3min\n",
      "[CV] END learning_rate=0.1, max_depth=5, min_child_weight=5, n_estimators=200; total time=12.5min\n",
      "[CV] END learning_rate=0.1, max_depth=7, min_child_weight=1, n_estimators=100; total time= 9.0min\n",
      "[CV] END learning_rate=0.1, max_depth=7, min_child_weight=1, n_estimators=200; total time=15.0min\n",
      "[CV] END learning_rate=0.1, max_depth=7, min_child_weight=3, n_estimators=200; total time=14.1min\n",
      "[CV] END learning_rate=0.1, max_depth=7, min_child_weight=5, n_estimators=50; total time= 5.3min\n",
      "[CV] END learning_rate=0.1, max_depth=7, min_child_weight=5, n_estimators=100; total time= 8.4min\n",
      "[CV] END learning_rate=0.2, max_depth=3, min_child_weight=1, n_estimators=50; total time= 3.6min\n",
      "[CV] END learning_rate=0.2, max_depth=3, min_child_weight=1, n_estimators=50; total time= 3.6min\n",
      "[CV] END learning_rate=0.2, max_depth=3, min_child_weight=1, n_estimators=100; total time= 6.1min\n",
      "[CV] END learning_rate=0.2, max_depth=3, min_child_weight=1, n_estimators=200; total time=11.0min\n",
      "[CV] END learning_rate=0.2, max_depth=3, min_child_weight=3, n_estimators=50; total time= 3.7min\n",
      "[CV] END learning_rate=0.2, max_depth=3, min_child_weight=3, n_estimators=200; total time=10.9min\n",
      "[CV] END learning_rate=0.2, max_depth=3, min_child_weight=5, n_estimators=50; total time= 3.7min\n",
      "[CV] END learning_rate=0.2, max_depth=3, min_child_weight=5, n_estimators=100; total time= 6.1min\n",
      "[CV] END learning_rate=0.2, max_depth=5, min_child_weight=1, n_estimators=50; total time= 4.2min\n",
      "[CV] END learning_rate=0.2, max_depth=5, min_child_weight=1, n_estimators=50; total time= 4.1min\n",
      "[CV] END learning_rate=0.2, max_depth=5, min_child_weight=1, n_estimators=100; total time= 6.9min\n",
      "[CV] END learning_rate=0.2, max_depth=5, min_child_weight=1, n_estimators=200; total time=12.1min\n",
      "[CV] END learning_rate=0.2, max_depth=5, min_child_weight=3, n_estimators=200; total time=12.0min\n",
      "[CV] END learning_rate=0.2, max_depth=5, min_child_weight=5, n_estimators=50; total time= 4.2min\n",
      "[CV] END learning_rate=0.2, max_depth=5, min_child_weight=5, n_estimators=100; total time= 6.8min\n",
      "[CV] END learning_rate=0.2, max_depth=7, min_child_weight=1, n_estimators=50; total time= 5.1min\n",
      "[CV] END learning_rate=0.2, max_depth=7, min_child_weight=1, n_estimators=50; total time= 4.9min\n",
      "[CV] END learning_rate=0.2, max_depth=7, min_child_weight=1, n_estimators=100; total time= 8.0min\n",
      "[CV] END learning_rate=0.2, max_depth=7, min_child_weight=1, n_estimators=200; total time=13.7min\n",
      "[CV] END learning_rate=0.2, max_depth=7, min_child_weight=3, n_estimators=100; total time= 7.7min\n",
      "[CV] END learning_rate=0.2, max_depth=7, min_child_weight=5, n_estimators=50; total time= 4.7min\n",
      "[CV] END learning_rate=0.2, max_depth=7, min_child_weight=5, n_estimators=50; total time= 4.8min\n",
      "[CV] END learning_rate=0.2, max_depth=7, min_child_weight=5, n_estimators=100; total time= 7.7min\n",
      "[CV] END learning_rate=0.2, max_depth=7, min_child_weight=5, n_estimators=200; total time=10.8min\n",
      "[CV] END learning_rate=0.01, max_depth=3, min_child_weight=1, n_estimators=50; total time= 4.4min\n",
      "[CV] END learning_rate=0.01, max_depth=3, min_child_weight=1, n_estimators=200; total time=13.6min\n",
      "[CV] END learning_rate=0.01, max_depth=3, min_child_weight=3, n_estimators=50; total time= 4.1min\n",
      "[CV] END learning_rate=0.01, max_depth=3, min_child_weight=3, n_estimators=100; total time= 7.1min\n",
      "[CV] END learning_rate=0.01, max_depth=3, min_child_weight=5, n_estimators=50; total time= 4.1min\n",
      "[CV] END learning_rate=0.01, max_depth=3, min_child_weight=5, n_estimators=50; total time= 4.1min\n",
      "[CV] END learning_rate=0.01, max_depth=3, min_child_weight=5, n_estimators=50; total time= 4.1min\n",
      "[CV] END learning_rate=0.01, max_depth=3, min_child_weight=5, n_estimators=200; total time=13.4min\n",
      "[CV] END learning_rate=0.01, max_depth=5, min_child_weight=1, n_estimators=50; total time= 5.8min\n",
      "[CV] END learning_rate=0.01, max_depth=5, min_child_weight=1, n_estimators=100; total time=10.5min\n",
      "[CV] END learning_rate=0.01, max_depth=5, min_child_weight=3, n_estimators=50; total time= 5.8min\n",
      "[CV] END learning_rate=0.01, max_depth=5, min_child_weight=3, n_estimators=50; total time= 5.7min\n",
      "[CV] END learning_rate=0.01, max_depth=5, min_child_weight=3, n_estimators=100; total time=10.6min\n",
      "[CV] END learning_rate=0.01, max_depth=5, min_child_weight=3, n_estimators=200; total time=17.6min\n",
      "[CV] END learning_rate=0.01, max_depth=5, min_child_weight=5, n_estimators=100; total time=10.1min\n",
      "[CV] END learning_rate=0.01, max_depth=5, min_child_weight=5, n_estimators=200; total time=17.5min\n",
      "[CV] END learning_rate=0.01, max_depth=7, min_child_weight=1, n_estimators=200; total time=23.3min\n",
      "[CV] END learning_rate=0.01, max_depth=7, min_child_weight=3, n_estimators=50; total time= 7.0min\n",
      "[CV] END learning_rate=0.01, max_depth=7, min_child_weight=3, n_estimators=100; total time=12.9min\n",
      "[CV] END learning_rate=0.01, max_depth=7, min_child_weight=3, n_estimators=200; total time=27.5min\n",
      "[CV] END learning_rate=0.01, max_depth=7, min_child_weight=5, n_estimators=200; total time=27.8min\n",
      "[CV] END learning_rate=0.1, max_depth=3, min_child_weight=1, n_estimators=100; total time= 7.7min\n",
      "[CV] END learning_rate=0.1, max_depth=3, min_child_weight=1, n_estimators=200; total time=11.2min\n",
      "[CV] END learning_rate=0.1, max_depth=3, min_child_weight=3, n_estimators=50; total time= 3.7min\n",
      "[CV] END learning_rate=0.1, max_depth=3, min_child_weight=3, n_estimators=200; total time=11.1min\n",
      "[CV] END learning_rate=0.1, max_depth=3, min_child_weight=5, n_estimators=50; total time= 3.7min\n",
      "[CV] END learning_rate=0.1, max_depth=3, min_child_weight=5, n_estimators=100; total time= 6.3min\n",
      "[CV] END learning_rate=0.1, max_depth=3, min_child_weight=5, n_estimators=200; total time=11.1min\n",
      "[CV] END learning_rate=0.1, max_depth=5, min_child_weight=1, n_estimators=200; total time=12.9min\n",
      "[CV] END learning_rate=0.1, max_depth=5, min_child_weight=3, n_estimators=50; total time= 4.5min\n",
      "[CV] END learning_rate=0.1, max_depth=5, min_child_weight=3, n_estimators=100; total time= 7.3min\n",
      "[CV] END learning_rate=0.1, max_depth=5, min_child_weight=3, n_estimators=200; total time=12.5min\n",
      "[CV] END learning_rate=0.1, max_depth=5, min_child_weight=5, n_estimators=200; total time=12.5min\n",
      "[CV] END learning_rate=0.1, max_depth=7, min_child_weight=1, n_estimators=50; total time= 5.6min\n",
      "[CV] END learning_rate=0.1, max_depth=7, min_child_weight=1, n_estimators=100; total time= 9.1min\n",
      "[CV] END learning_rate=0.1, max_depth=7, min_child_weight=3, n_estimators=50; total time= 5.5min\n",
      "[CV] END learning_rate=0.1, max_depth=7, min_child_weight=3, n_estimators=50; total time= 5.3min\n",
      "[CV] END learning_rate=0.1, max_depth=7, min_child_weight=3, n_estimators=100; total time= 8.5min\n",
      "[CV] END learning_rate=0.1, max_depth=7, min_child_weight=3, n_estimators=200; total time=14.1min\n",
      "[CV] END learning_rate=0.1, max_depth=7, min_child_weight=5, n_estimators=100; total time= 8.3min\n",
      "[CV] END learning_rate=0.1, max_depth=7, min_child_weight=5, n_estimators=200; total time=13.9min\n",
      "[CV] END learning_rate=0.2, max_depth=3, min_child_weight=1, n_estimators=200; total time=10.9min\n",
      "[CV] END learning_rate=0.2, max_depth=3, min_child_weight=3, n_estimators=100; total time= 6.1min\n",
      "[CV] END learning_rate=0.2, max_depth=3, min_child_weight=3, n_estimators=200; total time=10.9min\n",
      "[CV] END learning_rate=0.2, max_depth=3, min_child_weight=5, n_estimators=100; total time= 6.0min\n",
      "[CV] END learning_rate=0.2, max_depth=3, min_child_weight=5, n_estimators=200; total time=10.7min\n",
      "[CV] END learning_rate=0.2, max_depth=5, min_child_weight=1, n_estimators=200; total time=12.1min\n",
      "[CV] END learning_rate=0.2, max_depth=5, min_child_weight=3, n_estimators=50; total time= 4.2min\n",
      "[CV] END learning_rate=0.2, max_depth=5, min_child_weight=3, n_estimators=100; total time= 6.8min\n",
      "[CV] END learning_rate=0.2, max_depth=5, min_child_weight=3, n_estimators=200; total time=12.0min\n",
      "[CV] END learning_rate=0.2, max_depth=5, min_child_weight=5, n_estimators=200; total time=12.0min\n",
      "[CV] END learning_rate=0.2, max_depth=7, min_child_weight=1, n_estimators=50; total time= 4.9min\n",
      "[CV] END learning_rate=0.2, max_depth=7, min_child_weight=1, n_estimators=100; total time= 7.9min\n",
      "[CV] END learning_rate=0.2, max_depth=7, min_child_weight=3, n_estimators=50; total time= 4.8min\n",
      "[CV] END learning_rate=0.2, max_depth=7, min_child_weight=3, n_estimators=50; total time= 4.7min\n",
      "[CV] END learning_rate=0.2, max_depth=7, min_child_weight=3, n_estimators=100; total time= 7.5min\n",
      "[CV] END learning_rate=0.2, max_depth=7, min_child_weight=3, n_estimators=200; total time=13.2min\n",
      "[CV] END learning_rate=0.2, max_depth=7, min_child_weight=5, n_estimators=100; total time= 7.7min\n",
      "[CV] END learning_rate=0.2, max_depth=7, min_child_weight=5, n_estimators=200; total time=10.9min\n"
     ]
    }
   ],
   "source": [
    "xgb_model = XGBClassifier(random_state=42)\n",
    "param_grid_xgb = {\n",
    "    'n_estimators': [50, 100, 200],\n",
    "    'max_depth': [3, 5, 7],\n",
    "    'learning_rate': [0.01, 0.1, 0.2],\n",
    "    'min_child_weight': [1, 3, 5]\n",
    "}\n",
    "grid_search_xgb = GridSearchCV(estimator=xgb_model, param_grid=param_grid_xgb, cv=3, n_jobs=-1, verbose=2)\n",
    "grid_search_xgb.fit(X_train, y_train)\n",
    "best_xgb = grid_search_xgb.best_estimator_"
   ]
  },
  {
   "cell_type": "code",
   "execution_count": 13,
   "id": "89829e1a",
   "metadata": {
    "execution": {
     "iopub.execute_input": "2024-05-16T05:12:15.350694Z",
     "iopub.status.busy": "2024-05-16T05:12:15.350265Z",
     "iopub.status.idle": "2024-05-16T05:12:15.355214Z",
     "shell.execute_reply": "2024-05-16T05:12:15.354089Z"
    },
    "papermill": {
     "duration": 0.015862,
     "end_time": "2024-05-16T05:12:15.357595",
     "exception": false,
     "start_time": "2024-05-16T05:12:15.341733",
     "status": "completed"
    },
    "tags": []
   },
   "outputs": [],
   "source": [
    "models = {\n",
    "    'XGBoost': best_xgb,\n",
    "}"
   ]
  },
  {
   "cell_type": "code",
   "execution_count": 14,
   "id": "9cfc5bf1",
   "metadata": {
    "execution": {
     "iopub.execute_input": "2024-05-16T05:12:15.373098Z",
     "iopub.status.busy": "2024-05-16T05:12:15.372618Z",
     "iopub.status.idle": "2024-05-16T05:12:15.381878Z",
     "shell.execute_reply": "2024-05-16T05:12:15.380922Z"
    },
    "papermill": {
     "duration": 0.019806,
     "end_time": "2024-05-16T05:12:15.384200",
     "exception": false,
     "start_time": "2024-05-16T05:12:15.364394",
     "status": "completed"
    },
    "tags": []
   },
   "outputs": [
    {
     "name": "stdout",
     "output_type": "stream",
     "text": [
      "{'learning_rate': 0.2, 'max_depth': 7, 'min_child_weight': 1, 'n_estimators': 200}\n",
      "XGBClassifier(base_score=None, booster=None, callbacks=None,\n",
      "              colsample_bylevel=None, colsample_bynode=None,\n",
      "              colsample_bytree=None, device=None, early_stopping_rounds=None,\n",
      "              enable_categorical=False, eval_metric=None, feature_types=None,\n",
      "              gamma=None, grow_policy=None, importance_type=None,\n",
      "              interaction_constraints=None, learning_rate=0.2, max_bin=None,\n",
      "              max_cat_threshold=None, max_cat_to_onehot=None,\n",
      "              max_delta_step=None, max_depth=7, max_leaves=None,\n",
      "              min_child_weight=1, missing=nan, monotone_constraints=None,\n",
      "              multi_strategy=None, n_estimators=200, n_jobs=None,\n",
      "              num_parallel_tree=None, random_state=42, ...)\n"
     ]
    }
   ],
   "source": [
    "print(grid_search_xgb.best_params_)\n",
    "print(grid_search_xgb.best_estimator_)"
   ]
  },
  {
   "cell_type": "code",
   "execution_count": 15,
   "id": "eadffb5b",
   "metadata": {
    "execution": {
     "iopub.execute_input": "2024-05-16T05:12:15.399718Z",
     "iopub.status.busy": "2024-05-16T05:12:15.399073Z",
     "iopub.status.idle": "2024-05-16T05:12:17.554923Z",
     "shell.execute_reply": "2024-05-16T05:12:17.554064Z"
    },
    "papermill": {
     "duration": 2.166468,
     "end_time": "2024-05-16T05:12:17.557601",
     "exception": false,
     "start_time": "2024-05-16T05:12:15.391133",
     "status": "completed"
    },
    "tags": []
   },
   "outputs": [
    {
     "data": {
      "image/png": "[encoded data removed]",
      "text/plain": [
       "<Figure size 500x500 with 1 Axes>"
      ]
     },
     "metadata": {},
     "output_type": "display_data"
    },
    {
     "name": "stdout",
     "output_type": "stream",
     "text": [
      "Saved XGBoost model as XGBoost_model.pkl\n",
      "\n"
     ]
    }
   ],
   "source": [
    "for name, model in models.items():\n",
    "    y_pred = model.predict(X_test)\n",
    "    cm = confusion_matrix(y_test, y_pred)\n",
    "    plt.figure(figsize=(5, 5))\n",
    "    sns.heatmap(cm, annot=True, cmap='Blues', fmt='g', cbar=False)\n",
    "    plt.title(f'XGBoost Confusion Matrix')\n",
    "    plt.xlabel('Predicted')\n",
    "    plt.ylabel('Actual')\n",
    "    plt.show()\n",
    "\n",
    "    model_name = f'{name}_model.pkl'\n",
    "    joblib.dump(model, model_name)\n",
    "    print(f'Saved {name} model as {model_name}\\n')"
   ]
  }
 ],
 "metadata": {
  "kaggle": {
   "accelerator": "none",
   "dataSources": [
    {
     "datasetId": 4919336,
     "sourceId": 8282926,
     "sourceType": "datasetVersion"
    },
    {
     "datasetId": 5011088,
     "sourceId": 8418068,
     "sourceType": "datasetVersion"
    },
    {
     "datasetId": 5012664,
     "sourceId": 8420140,
     "sourceType": "datasetVersion"
    }
   ],
   "dockerImageVersionId": 30698,
   "isGpuEnabled": false,
   "isInternetEnabled": true,
   "language": "python",
   "sourceType": "notebook"
  },
  "kernelspec": {
   "display_name": "Python 3",
   "language": "python",
   "name": "python3"
  },
  "language_info": {
   "codemirror_mode": {
    "name": "ipython",
    "version": 3
   },
   "file_extension": ".py",
   "mimetype": "text/x-python",
   "name": "python",
   "nbconvert_exporter": "python",
   "pygments_lexer": "ipython3",
   "version": "3.10.13"
  },
  "papermill": {
   "default_parameters": {},
   "duration": 34316.335667,
   "end_time": "2024-05-16T05:12:20.509736",
   "environment_variables": {},
   "exception": null,
   "input_path": "__notebook__.ipynb",
   "output_path": "__notebook__.ipynb",
   "parameters": {},
   "start_time": "2024-05-15T19:40:24.174069",
   "version": "2.5.0"
  }
 },
 "nbformat": 4,
 "nbformat_minor": 5
}
