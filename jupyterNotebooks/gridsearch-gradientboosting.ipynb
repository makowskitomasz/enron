{
 "cells": [
  {
   "cell_type": "code",
   "execution_count": 1,
   "id": "624a4a3d",
   "metadata": {
    "_cell_guid": "b1076dfc-b9ad-4769-8c92-a6c4dae69d19",
    "_uuid": "8f2839f25d086af736a60e9eeb907d3b93b6e0e5",
    "execution": {
     "iopub.execute_input": "2024-05-16T07:16:27.822612Z",
     "iopub.status.busy": "2024-05-16T07:16:27.821982Z",
     "iopub.status.idle": "2024-05-16T07:16:30.755577Z",
     "shell.execute_reply": "2024-05-16T07:16:30.754723Z"
    },
    "papermill": {
     "duration": 2.942542,
     "end_time": "2024-05-16T07:16:30.758023",
     "exception": false,
     "start_time": "2024-05-16T07:16:27.815481",
     "status": "completed"
    },
    "tags": []
   },
   "outputs": [],
   "source": [
    "import pandas as pd\n",
    "from sklearn.model_selection import train_test_split\n",
    "from sklearn.ensemble import RandomForestClassifier, GradientBoostingClassifier\n",
    "from sklearn.svm import SVC\n",
    "from xgboost import XGBClassifier\n",
    "from sklearn.metrics import accuracy_score, f1_score\n",
    "from sklearn.model_selection import GridSearchCV\n",
    "from scipy.sparse import csr_matrix\n",
    "from sklearn.utils import resample\n",
    "import math\n",
    "import joblib\n",
    "import matplotlib.pyplot as plt\n",
    "import seaborn as sns\n",
    "from sklearn.metrics import confusion_matrix"
   ]
  },
  {
   "cell_type": "code",
   "execution_count": 2,
   "id": "eb7f359e",
   "metadata": {
    "execution": {
     "iopub.execute_input": "2024-05-16T07:16:30.768684Z",
     "iopub.status.busy": "2024-05-16T07:16:30.767928Z",
     "iopub.status.idle": "2024-05-16T07:16:32.758424Z",
     "shell.execute_reply": "2024-05-16T07:16:32.757274Z"
    },
    "papermill": {
     "duration": 1.998548,
     "end_time": "2024-05-16T07:16:32.761031",
     "exception": false,
     "start_time": "2024-05-16T07:16:30.762483",
     "status": "completed"
    },
    "tags": []
   },
   "outputs": [],
   "source": [
    "# df = pd.read_pickle('/kaggle/input/enron-subset/all_enron_emails_preprocessed.pkl')\n",
    "df = pd.read_pickle('../data/all_enron_emails_preprocessed.pkl')"
   ]
  },
  {
   "cell_type": "code",
   "execution_count": 3,
   "id": "6cb346b5",
   "metadata": {
    "execution": {
     "iopub.execute_input": "2024-05-16T07:16:32.771419Z",
     "iopub.status.busy": "2024-05-16T07:16:32.770630Z",
     "iopub.status.idle": "2024-05-16T07:16:33.007673Z",
     "shell.execute_reply": "2024-05-16T07:16:33.006241Z"
    },
    "papermill": {
     "duration": 0.245287,
     "end_time": "2024-05-16T07:16:33.010616",
     "exception": false,
     "start_time": "2024-05-16T07:16:32.765329",
     "status": "completed"
    },
    "tags": []
   },
   "outputs": [],
   "source": [
    "df.drop(['responses', 'is_reply'], axis=1, inplace=True)\n",
    "df.fillna(0, inplace=True)"
   ]
  },
  {
   "cell_type": "code",
   "execution_count": 4,
   "id": "3f051716",
   "metadata": {
    "execution": {
     "iopub.execute_input": "2024-05-16T07:16:33.022361Z",
     "iopub.status.busy": "2024-05-16T07:16:33.020368Z",
     "iopub.status.idle": "2024-05-16T07:17:30.855486Z",
     "shell.execute_reply": "2024-05-16T07:17:30.854197Z"
    },
    "papermill": {
     "duration": 57.84315,
     "end_time": "2024-05-16T07:17:30.858205",
     "exception": false,
     "start_time": "2024-05-16T07:16:33.015055",
     "status": "completed"
    },
    "tags": []
   },
   "outputs": [],
   "source": [
    "train, test = train_test_split(df, test_size=0.2, random_state=42)"
   ]
  },
  {
   "cell_type": "code",
   "execution_count": 8,
   "id": "f44c1f1b",
   "metadata": {
    "execution": {
     "iopub.execute_input": "2024-05-16T07:17:30.918079Z",
     "iopub.status.busy": "2024-05-16T07:17:30.917672Z",
     "iopub.status.idle": "2024-05-16T07:17:31.192100Z",
     "shell.execute_reply": "2024-05-16T07:17:31.190847Z"
    },
    "papermill": {
     "duration": 0.282587,
     "end_time": "2024-05-16T07:17:31.194617",
     "exception": false,
     "start_time": "2024-05-16T07:17:30.912030",
     "status": "completed"
    },
    "tags": []
   },
   "outputs": [],
   "source": [
    "y_train = train['answered']\n",
    "X_train = train.drop(columns='answered')\n",
    "y_test = test['answered']\n",
    "X_test = test.drop(columns='answered')"
   ]
  },
  {
   "cell_type": "code",
   "execution_count": 9,
   "id": "4244db48",
   "metadata": {
    "execution": {
     "iopub.execute_input": "2024-05-16T07:17:31.205395Z",
     "iopub.status.busy": "2024-05-16T07:17:31.205010Z",
     "iopub.status.idle": "2024-05-16T07:17:33.570448Z",
     "shell.execute_reply": "2024-05-16T07:17:33.569460Z"
    },
    "papermill": {
     "duration": 2.373865,
     "end_time": "2024-05-16T07:17:33.572985",
     "exception": false,
     "start_time": "2024-05-16T07:17:31.199120",
     "status": "completed"
    },
    "tags": []
   },
   "outputs": [],
   "source": [
    "X_train = X_train.to_numpy()\n",
    "X_test = X_test.to_numpy()"
   ]
  },
  {
   "cell_type": "code",
   "execution_count": 12,
   "id": "b99d17fa",
   "metadata": {
    "execution": {
     "iopub.execute_input": "2024-05-16T07:17:33.618737Z",
     "iopub.status.busy": "2024-05-16T07:17:33.618389Z",
     "iopub.status.idle": "2024-05-16T10:37:01.043610Z",
     "shell.execute_reply": "2024-05-16T10:37:01.041368Z"
    },
    "papermill": {
     "duration": 11967.437009,
     "end_time": "2024-05-16T10:37:01.049593",
     "exception": false,
     "start_time": "2024-05-16T07:17:33.612584",
     "status": "completed"
    },
    "tags": []
   },
   "outputs": [
    {
     "name": "stdout",
     "output_type": "stream",
     "text": [
      "Fitting 3 folds for each of 8 candidates, totalling 24 fits\n",
      "[CV] END learning_rate=0.01, min_samples_leaf=1, n_estimators=50; total time=19.1min\n",
      "[CV] END learning_rate=0.01, min_samples_leaf=1, n_estimators=100; total time=38.6min\n",
      "[CV] END learning_rate=0.01, min_samples_leaf=2, n_estimators=100; total time=38.6min\n",
      "[CV] END learning_rate=0.1, min_samples_leaf=1, n_estimators=50; total time=19.8min\n",
      "[CV] END learning_rate=0.1, min_samples_leaf=2, n_estimators=50; total time=19.7min\n",
      "[CV] END learning_rate=0.1, min_samples_leaf=2, n_estimators=50; total time=21.3min\n",
      "[CV] END learning_rate=0.01, min_samples_leaf=1, n_estimators=50; total time=19.4min\n",
      "[CV] END learning_rate=0.01, min_samples_leaf=2, n_estimators=50; total time=19.5min\n",
      "[CV] END learning_rate=0.01, min_samples_leaf=2, n_estimators=50; total time=19.7min\n",
      "[CV] END learning_rate=0.1, min_samples_leaf=1, n_estimators=50; total time=19.8min\n",
      "[CV] END learning_rate=0.1, min_samples_leaf=1, n_estimators=50; total time=20.0min\n",
      "[CV] END learning_rate=0.1, min_samples_leaf=1, n_estimators=100; total time=39.7min\n",
      "[CV] END learning_rate=0.1, min_samples_leaf=2, n_estimators=100; total time=35.8min\n",
      "[CV] END learning_rate=0.01, min_samples_leaf=1, n_estimators=50; total time=19.3min\n",
      "[CV] END learning_rate=0.01, min_samples_leaf=1, n_estimators=100; total time=37.8min\n",
      "[CV] END learning_rate=0.01, min_samples_leaf=2, n_estimators=100; total time=43.8min\n",
      "[CV] END learning_rate=0.1, min_samples_leaf=1, n_estimators=100; total time=43.2min\n",
      "[CV] END learning_rate=0.1, min_samples_leaf=2, n_estimators=100; total time=35.0min\n",
      "[CV] END learning_rate=0.01, min_samples_leaf=1, n_estimators=100; total time=38.7min\n",
      "[CV] END learning_rate=0.01, min_samples_leaf=2, n_estimators=50; total time=19.3min\n",
      "[CV] END learning_rate=0.01, min_samples_leaf=2, n_estimators=100; total time=38.6min\n",
      "[CV] END learning_rate=0.1, min_samples_leaf=1, n_estimators=100; total time=39.3min\n",
      "[CV] END learning_rate=0.1, min_samples_leaf=2, n_estimators=50; total time=19.5min\n",
      "[CV] END learning_rate=0.1, min_samples_leaf=2, n_estimators=100; total time=27.5min\n"
     ]
    }
   ],
   "source": [
    "gb_model = GradientBoostingClassifier(random_state=42)\n",
    "param_grid_gb = {\n",
    "    'n_estimators': [50, 100],\n",
    "    'learning_rate': [0.01, 0.1],\n",
    "    'min_samples_leaf': [1, 2]\n",
    "}\n",
    "grid_search_gb = GridSearchCV(estimator=gb_model, param_grid=param_grid_gb, cv=3, n_jobs=-1, verbose=2)\n",
    "grid_search_gb.fit(X_train, y_train)\n",
    "best_gb = grid_search_gb.best_estimator_"
   ]
  },
  {
   "cell_type": "code",
   "execution_count": 13,
   "id": "061ba81f",
   "metadata": {
    "execution": {
     "iopub.execute_input": "2024-05-16T10:37:01.065853Z",
     "iopub.status.busy": "2024-05-16T10:37:01.064318Z",
     "iopub.status.idle": "2024-05-16T10:37:01.071214Z",
     "shell.execute_reply": "2024-05-16T10:37:01.070211Z"
    },
    "papermill": {
     "duration": 0.018442,
     "end_time": "2024-05-16T10:37:01.073792",
     "exception": false,
     "start_time": "2024-05-16T10:37:01.055350",
     "status": "completed"
    },
    "tags": []
   },
   "outputs": [],
   "source": [
    "models = {\n",
    "    'Gradient Boosting': best_gb,\n",
    "}"
   ]
  },
  {
   "cell_type": "code",
   "execution_count": 14,
   "id": "5b81506e",
   "metadata": {
    "execution": {
     "iopub.execute_input": "2024-05-16T10:37:01.085463Z",
     "iopub.status.busy": "2024-05-16T10:37:01.084630Z",
     "iopub.status.idle": "2024-05-16T10:37:01.096139Z",
     "shell.execute_reply": "2024-05-16T10:37:01.094729Z"
    },
    "papermill": {
     "duration": 0.020339,
     "end_time": "2024-05-16T10:37:01.098948",
     "exception": false,
     "start_time": "2024-05-16T10:37:01.078609",
     "status": "completed"
    },
    "tags": []
   },
   "outputs": [
    {
     "name": "stdout",
     "output_type": "stream",
     "text": [
      "{'learning_rate': 0.1, 'min_samples_leaf': 1, 'n_estimators': 100}\n",
      "GradientBoostingClassifier(random_state=42)\n"
     ]
    }
   ],
   "source": [
    "print(grid_search_gb.best_params_)\n",
    "print(grid_search_gb.best_estimator_)"
   ]
  },
  {
   "cell_type": "code",
   "execution_count": 15,
   "id": "08ee556c",
   "metadata": {
    "execution": {
     "iopub.execute_input": "2024-05-16T10:37:01.110629Z",
     "iopub.status.busy": "2024-05-16T10:37:01.110230Z",
     "iopub.status.idle": "2024-05-16T10:37:05.858305Z",
     "shell.execute_reply": "2024-05-16T10:37:05.856892Z"
    },
    "papermill": {
     "duration": 4.756346,
     "end_time": "2024-05-16T10:37:05.860437",
     "exception": false,
     "start_time": "2024-05-16T10:37:01.104091",
     "status": "completed"
    },
    "tags": []
   },
   "outputs": [
    {
     "data": {
      "image/png": "[encoded data removed]",
      "text/plain": [
       "<Figure size 500x500 with 1 Axes>"
      ]
     },
     "metadata": {},
     "output_type": "display_data"
    },
    {
     "name": "stdout",
     "output_type": "stream",
     "text": [
      "Saved Gradient Boosting model as Gradient Boosting_model.pkl\n",
      "\n"
     ]
    }
   ],
   "source": [
    "for name, model in models.items():\n",
    "    y_pred = model.predict(X_test)\n",
    "    cm = confusion_matrix(y_test, y_pred)\n",
    "    plt.figure(figsize=(5, 5))\n",
    "    sns.heatmap(cm, annot=True, cmap='Blues', fmt='g', cbar=False)\n",
    "    plt.title(f'Gradient Boosting Confusion Matrix')\n",
    "    plt.xlabel('Predicted')\n",
    "    plt.ylabel('Actual')\n",
    "    plt.show()\n",
    "\n",
    "    model_name = f'{name}_model.pkl'\n",
    "    joblib.dump(model, model_name)\n",
    "    print(f'Saved {name} model as {model_name}\\n')"
   ]
  }
 ],
 "metadata": {
  "kaggle": {
   "accelerator": "none",
   "dataSources": [
    {
     "datasetId": 4919336,
     "sourceId": 8282926,
     "sourceType": "datasetVersion"
    },
    {
     "datasetId": 5011088,
     "sourceId": 8418068,
     "sourceType": "datasetVersion"
    },
    {
     "datasetId": 5012664,
     "sourceId": 8420140,
     "sourceType": "datasetVersion"
    }
   ],
   "dockerImageVersionId": 30698,
   "isGpuEnabled": false,
   "isInternetEnabled": true,
   "language": "python",
   "sourceType": "notebook"
  },
  "kernelspec": {
   "display_name": "Python 3",
   "language": "python",
   "name": "python3"
  },
  "language_info": {
   "codemirror_mode": {
    "name": "ipython",
    "version": 3
   },
   "file_extension": ".py",
   "mimetype": "text/x-python",
   "name": "python",
   "nbconvert_exporter": "python",
   "pygments_lexer": "ipython3",
   "version": "3.10.13"
  },
  "papermill": {
   "default_parameters": {},
   "duration": 12043.698156,
   "end_time": "2024-05-16T10:37:08.735038",
   "environment_variables": {},
   "exception": null,
   "input_path": "__notebook__.ipynb",
   "output_path": "__notebook__.ipynb",
   "parameters": {},
   "start_time": "2024-05-16T07:16:25.036882",
   "version": "2.5.0"
  }
 },
 "nbformat": 4,
 "nbformat_minor": 5
}
