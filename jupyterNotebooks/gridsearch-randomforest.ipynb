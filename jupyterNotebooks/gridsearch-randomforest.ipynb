{
 "cells": [
  {
   "cell_type": "code",
   "execution_count": 1,
   "id": "bca1b036",
   "metadata": {
    "_cell_guid": "b1076dfc-b9ad-4769-8c92-a6c4dae69d19",
    "_uuid": "8f2839f25d086af736a60e9eeb907d3b93b6e0e5",
    "execution": {
     "iopub.execute_input": "2024-05-15T19:39:42.060708Z",
     "iopub.status.busy": "2024-05-15T19:39:42.060277Z",
     "iopub.status.idle": "2024-05-15T19:39:45.191461Z",
     "shell.execute_reply": "2024-05-15T19:39:45.190373Z"
    },
    "papermill": {
     "duration": 3.141587,
     "end_time": "2024-05-15T19:39:45.194958",
     "exception": false,
     "start_time": "2024-05-15T19:39:42.053371",
     "status": "completed"
    },
    "tags": []
   },
   "outputs": [],
   "source": [
    "import pandas as pd\n",
    "from sklearn.model_selection import train_test_split\n",
    "from sklearn.ensemble import RandomForestClassifier, GradientBoostingClassifier\n",
    "from sklearn.svm import SVC\n",
    "from xgboost import XGBClassifier\n",
    "from sklearn.metrics import accuracy_score, f1_score\n",
    "from sklearn.model_selection import GridSearchCV\n",
    "from scipy.sparse import csr_matrix\n",
    "from sklearn.utils import resample\n",
    "import math\n",
    "import joblib\n",
    "import matplotlib.pyplot as plt\n",
    "import seaborn as sns\n",
    "from sklearn.metrics import confusion_matrix"
   ]
  },
  {
   "cell_type": "code",
   "execution_count": 2,
   "id": "2d3c5d2d",
   "metadata": {
    "execution": {
     "iopub.execute_input": "2024-05-15T19:39:45.206073Z",
     "iopub.status.busy": "2024-05-15T19:39:45.205513Z",
     "iopub.status.idle": "2024-05-15T19:39:47.162682Z",
     "shell.execute_reply": "2024-05-15T19:39:47.161348Z"
    },
    "papermill": {
     "duration": 1.965281,
     "end_time": "2024-05-15T19:39:47.165217",
     "exception": false,
     "start_time": "2024-05-15T19:39:45.199936",
     "status": "completed"
    },
    "tags": []
   },
   "outputs": [],
   "source": [
    "df = pd.read_pickle('../data/all_enron_emails_preprocessed.pkl')"
   ]
  },
  {
   "cell_type": "code",
   "execution_count": 3,
   "id": "7fe69321",
   "metadata": {
    "execution": {
     "iopub.execute_input": "2024-05-15T19:39:47.176089Z",
     "iopub.status.busy": "2024-05-15T19:39:47.175156Z",
     "iopub.status.idle": "2024-05-15T19:39:47.399552Z",
     "shell.execute_reply": "2024-05-15T19:39:47.398292Z"
    },
    "papermill": {
     "duration": 0.233358,
     "end_time": "2024-05-15T19:39:47.403144",
     "exception": false,
     "start_time": "2024-05-15T19:39:47.169786",
     "status": "completed"
    },
    "tags": []
   },
   "outputs": [],
   "source": [
    "df.drop(['responses', 'is_reply'], axis=1, inplace=True)\n",
    "df.fillna(0, inplace=True)"
   ]
  },
  {
   "cell_type": "code",
   "execution_count": 4,
   "id": "d10757d3",
   "metadata": {
    "execution": {
     "iopub.execute_input": "2024-05-15T19:39:47.417111Z",
     "iopub.status.busy": "2024-05-15T19:39:47.416676Z",
     "iopub.status.idle": "2024-05-15T19:40:46.518799Z",
     "shell.execute_reply": "2024-05-15T19:40:46.517682Z"
    },
    "papermill": {
     "duration": 59.11159,
     "end_time": "2024-05-15T19:40:46.521651",
     "exception": false,
     "start_time": "2024-05-15T19:39:47.410061",
     "status": "completed"
    },
    "tags": []
   },
   "outputs": [],
   "source": [
    "train, test = train_test_split(df, test_size=0.2, random_state=42)"
   ]
  },
  {
   "cell_type": "code",
   "execution_count": 8,
   "id": "3d43ee03",
   "metadata": {
    "execution": {
     "iopub.execute_input": "2024-05-15T19:40:46.581265Z",
     "iopub.status.busy": "2024-05-15T19:40:46.580660Z",
     "iopub.status.idle": "2024-05-15T19:40:46.845704Z",
     "shell.execute_reply": "2024-05-15T19:40:46.844395Z"
    },
    "papermill": {
     "duration": 0.273638,
     "end_time": "2024-05-15T19:40:46.848602",
     "exception": false,
     "start_time": "2024-05-15T19:40:46.574964",
     "status": "completed"
    },
    "tags": []
   },
   "outputs": [],
   "source": [
    "y_train = train['answered']\n",
    "X_train = train.drop(columns='answered')\n",
    "y_test = test['answered']\n",
    "X_test = test.drop(columns='answered')"
   ]
  },
  {
   "cell_type": "code",
   "execution_count": 9,
   "id": "b2572545",
   "metadata": {
    "execution": {
     "iopub.execute_input": "2024-05-15T19:40:46.859426Z",
     "iopub.status.busy": "2024-05-15T19:40:46.859003Z",
     "iopub.status.idle": "2024-05-15T19:40:48.882256Z",
     "shell.execute_reply": "2024-05-15T19:40:48.881049Z"
    },
    "papermill": {
     "duration": 2.032149,
     "end_time": "2024-05-15T19:40:48.885284",
     "exception": false,
     "start_time": "2024-05-15T19:40:46.853135",
     "status": "completed"
    },
    "tags": []
   },
   "outputs": [],
   "source": [
    "X_train = X_train.to_numpy()\n",
    "X_test = X_test.to_numpy()"
   ]
  },
  {
   "cell_type": "code",
   "execution_count": 10,
   "id": "853ae7b3",
   "metadata": {
    "execution": {
     "iopub.execute_input": "2024-05-15T19:40:48.895688Z",
     "iopub.status.busy": "2024-05-15T19:40:48.895289Z",
     "iopub.status.idle": "2024-05-16T01:36:55.816008Z",
     "shell.execute_reply": "2024-05-16T01:36:55.813725Z"
    },
    "papermill": {
     "duration": 21366.931745,
     "end_time": "2024-05-16T01:36:55.821457",
     "exception": false,
     "start_time": "2024-05-15T19:40:48.889712",
     "status": "completed"
    },
    "tags": []
   },
   "outputs": [
    {
     "name": "stdout",
     "output_type": "stream",
     "text": [
      "Fitting 3 folds for each of 81 candidates, totalling 243 fits\n",
      "[CV] END max_depth=None, min_samples_leaf=1, min_samples_split=2, n_estimators=50; total time= 5.3min\n",
      "[CV] END max_depth=None, min_samples_leaf=1, min_samples_split=2, n_estimators=100; total time=10.5min\n"
     ]
    },
    {
     "name": "stderr",
     "output_type": "stream",
     "text": [
      "/opt/conda/lib/python3.10/site-packages/joblib/externals/loky/process_executor.py:752: UserWarning: A worker stopped while some jobs were given to the executor. This can be caused by a too short worker timeout or by a memory leak.\n",
      "  warnings.warn(\n"
     ]
    },
    {
     "name": "stdout",
     "output_type": "stream",
     "text": [
      "[CV] END max_depth=None, min_samples_leaf=1, min_samples_split=2, n_estimators=50; total time= 5.4min\n",
      "[CV] END max_depth=None, min_samples_leaf=1, min_samples_split=2, n_estimators=200; total time=20.8min\n",
      "[CV] END max_depth=None, min_samples_leaf=1, min_samples_split=2, n_estimators=100; total time=10.5min\n",
      "[CV] END max_depth=None, min_samples_leaf=1, min_samples_split=2, n_estimators=200; total time=20.8min\n",
      "[CV] END max_depth=None, min_samples_leaf=1, min_samples_split=2, n_estimators=200; total time=21.2min\n",
      "[CV] END max_depth=None, min_samples_leaf=1, min_samples_split=4, n_estimators=200; total time=26.8min\n",
      "[CV] END max_depth=None, min_samples_leaf=1, min_samples_split=6, n_estimators=100; total time=11.6min\n",
      "[CV] END max_depth=None, min_samples_leaf=2, min_samples_split=2, n_estimators=50; total time= 5.5min\n",
      "[CV] END max_depth=None, min_samples_leaf=2, min_samples_split=2, n_estimators=50; total time= 5.6min\n",
      "[CV] END max_depth=None, min_samples_leaf=2, min_samples_split=2, n_estimators=50; total time= 5.3min\n",
      "[CV] END max_depth=None, min_samples_leaf=2, min_samples_split=2, n_estimators=100; total time=10.4min\n",
      "[CV] END max_depth=None, min_samples_leaf=2, min_samples_split=4, n_estimators=50; total time= 5.2min\n",
      "[CV] END max_depth=None, min_samples_leaf=2, min_samples_split=4, n_estimators=50; total time= 5.4min\n",
      "[CV] END max_depth=None, min_samples_leaf=2, min_samples_split=4, n_estimators=50; total time= 5.2min\n",
      "[CV] END max_depth=None, min_samples_leaf=2, min_samples_split=4, n_estimators=100; total time=10.4min\n",
      "[CV] END max_depth=None, min_samples_leaf=2, min_samples_split=6, n_estimators=50; total time= 5.3min\n",
      "[CV] END max_depth=None, min_samples_leaf=2, min_samples_split=6, n_estimators=50; total time= 5.3min\n",
      "[CV] END max_depth=None, min_samples_leaf=2, min_samples_split=6, n_estimators=50; total time= 5.4min\n",
      "[CV] END max_depth=None, min_samples_leaf=2, min_samples_split=6, n_estimators=100; total time=10.6min\n",
      "[CV] END max_depth=None, min_samples_leaf=2, min_samples_split=6, n_estimators=200; total time=20.5min\n",
      "[CV] END max_depth=None, min_samples_leaf=4, min_samples_split=2, n_estimators=200; total time=18.4min\n",
      "[CV] END max_depth=None, min_samples_leaf=4, min_samples_split=4, n_estimators=50; total time= 5.0min\n",
      "[CV] END max_depth=None, min_samples_leaf=4, min_samples_split=4, n_estimators=100; total time= 9.2min\n",
      "[CV] END max_depth=None, min_samples_leaf=4, min_samples_split=6, n_estimators=50; total time= 4.7min\n",
      "[CV] END max_depth=None, min_samples_leaf=4, min_samples_split=6, n_estimators=50; total time= 4.8min\n",
      "[CV] END max_depth=None, min_samples_leaf=4, min_samples_split=6, n_estimators=50; total time= 4.8min\n",
      "[CV] END max_depth=None, min_samples_leaf=4, min_samples_split=6, n_estimators=100; total time= 9.3min\n",
      "[CV] END max_depth=None, min_samples_leaf=4, min_samples_split=6, n_estimators=200; total time=18.5min\n",
      "[CV] END max_depth=5, min_samples_leaf=1, min_samples_split=6, n_estimators=50; total time=  47.3s\n",
      "[CV] END max_depth=5, min_samples_leaf=1, min_samples_split=6, n_estimators=50; total time=  47.4s\n",
      "[CV] END max_depth=5, min_samples_leaf=1, min_samples_split=6, n_estimators=50; total time=  47.0s\n",
      "[CV] END max_depth=5, min_samples_leaf=1, min_samples_split=6, n_estimators=200; total time= 2.6min\n",
      "[CV] END max_depth=5, min_samples_leaf=2, min_samples_split=2, n_estimators=50; total time=  47.5s\n",
      "[CV] END max_depth=5, min_samples_leaf=2, min_samples_split=2, n_estimators=100; total time= 1.4min\n",
      "[CV] END max_depth=5, min_samples_leaf=2, min_samples_split=4, n_estimators=50; total time=  49.5s\n",
      "[CV] END max_depth=5, min_samples_leaf=2, min_samples_split=4, n_estimators=50; total time=  50.2s\n",
      "[CV] END max_depth=5, min_samples_leaf=2, min_samples_split=4, n_estimators=50; total time=  48.8s\n",
      "[CV] END max_depth=5, min_samples_leaf=2, min_samples_split=4, n_estimators=200; total time= 2.7min\n",
      "[CV] END max_depth=5, min_samples_leaf=2, min_samples_split=6, n_estimators=50; total time=  47.9s\n",
      "[CV] END max_depth=5, min_samples_leaf=2, min_samples_split=6, n_estimators=100; total time= 1.4min\n",
      "[CV] END max_depth=5, min_samples_leaf=2, min_samples_split=6, n_estimators=200; total time= 2.6min\n",
      "[CV] END max_depth=5, min_samples_leaf=4, min_samples_split=2, n_estimators=200; total time= 2.5min\n",
      "[CV] END max_depth=5, min_samples_leaf=4, min_samples_split=4, n_estimators=50; total time=  49.2s\n",
      "[CV] END max_depth=5, min_samples_leaf=4, min_samples_split=4, n_estimators=100; total time= 1.4min\n",
      "[CV] END max_depth=5, min_samples_leaf=4, min_samples_split=6, n_estimators=50; total time=  47.1s\n",
      "[CV] END max_depth=5, min_samples_leaf=4, min_samples_split=6, n_estimators=50; total time=  47.0s\n",
      "[CV] END max_depth=5, min_samples_leaf=4, min_samples_split=6, n_estimators=100; total time= 1.4min\n",
      "[CV] END max_depth=5, min_samples_leaf=4, min_samples_split=6, n_estimators=200; total time= 2.5min\n",
      "[CV] END max_depth=10, min_samples_leaf=1, min_samples_split=2, n_estimators=100; total time= 2.4min\n",
      "[CV] END max_depth=10, min_samples_leaf=1, min_samples_split=2, n_estimators=200; total time= 4.6min\n",
      "[CV] END max_depth=10, min_samples_leaf=1, min_samples_split=4, n_estimators=100; total time= 2.5min\n",
      "[CV] END max_depth=10, min_samples_leaf=1, min_samples_split=6, n_estimators=50; total time= 1.3min\n",
      "[CV] END max_depth=10, min_samples_leaf=1, min_samples_split=6, n_estimators=50; total time= 1.4min\n",
      "[CV] END max_depth=10, min_samples_leaf=1, min_samples_split=6, n_estimators=50; total time= 1.3min\n",
      "[CV] END max_depth=10, min_samples_leaf=1, min_samples_split=6, n_estimators=100; total time= 2.5min\n",
      "[CV] END max_depth=10, min_samples_leaf=2, min_samples_split=2, n_estimators=50; total time= 1.3min\n",
      "[CV] END max_depth=10, min_samples_leaf=2, min_samples_split=2, n_estimators=50; total time= 1.3min\n",
      "[CV] END max_depth=10, min_samples_leaf=2, min_samples_split=2, n_estimators=50; total time= 1.3min\n",
      "[CV] END max_depth=10, min_samples_leaf=2, min_samples_split=2, n_estimators=100; total time= 2.5min\n",
      "[CV] END max_depth=10, min_samples_leaf=2, min_samples_split=4, n_estimators=50; total time= 1.4min\n",
      "[CV] END max_depth=10, min_samples_leaf=2, min_samples_split=4, n_estimators=50; total time= 1.4min\n",
      "[CV] END max_depth=10, min_samples_leaf=2, min_samples_split=4, n_estimators=50; total time= 1.3min\n",
      "[CV] END max_depth=10, min_samples_leaf=2, min_samples_split=4, n_estimators=100; total time= 2.5min\n",
      "[CV] END max_depth=10, min_samples_leaf=2, min_samples_split=6, n_estimators=50; total time= 1.3min\n",
      "[CV] END max_depth=10, min_samples_leaf=2, min_samples_split=6, n_estimators=50; total time= 1.3min\n",
      "[CV] END max_depth=10, min_samples_leaf=2, min_samples_split=6, n_estimators=50; total time= 1.4min\n",
      "[CV] END max_depth=10, min_samples_leaf=2, min_samples_split=6, n_estimators=200; total time= 4.7min\n",
      "[CV] END max_depth=10, min_samples_leaf=4, min_samples_split=2, n_estimators=50; total time= 1.3min\n",
      "[CV] END max_depth=10, min_samples_leaf=4, min_samples_split=2, n_estimators=100; total time= 2.5min\n",
      "[CV] END max_depth=10, min_samples_leaf=4, min_samples_split=2, n_estimators=200; total time= 4.7min\n",
      "[CV] END max_depth=10, min_samples_leaf=4, min_samples_split=4, n_estimators=200; total time= 4.7min\n",
      "[CV] END max_depth=10, min_samples_leaf=4, min_samples_split=6, n_estimators=50; total time= 1.3min\n",
      "[CV] END max_depth=10, min_samples_leaf=4, min_samples_split=6, n_estimators=100; total time= 2.5min\n",
      "[CV] END max_depth=None, min_samples_leaf=1, min_samples_split=4, n_estimators=50; total time= 5.6min\n",
      "[CV] END max_depth=None, min_samples_leaf=1, min_samples_split=4, n_estimators=100; total time=11.1min\n",
      "[CV] END max_depth=None, min_samples_leaf=1, min_samples_split=6, n_estimators=50; total time= 5.6min\n",
      "[CV] END max_depth=None, min_samples_leaf=1, min_samples_split=6, n_estimators=50; total time= 5.7min\n",
      "[CV] END max_depth=None, min_samples_leaf=1, min_samples_split=6, n_estimators=50; total time= 5.6min\n",
      "[CV] END max_depth=None, min_samples_leaf=1, min_samples_split=6, n_estimators=100; total time=10.8min\n",
      "[CV] END max_depth=None, min_samples_leaf=1, min_samples_split=6, n_estimators=200; total time=21.3min\n",
      "[CV] END max_depth=None, min_samples_leaf=2, min_samples_split=2, n_estimators=100; total time=10.2min\n",
      "[CV] END max_depth=None, min_samples_leaf=2, min_samples_split=2, n_estimators=200; total time=21.1min\n",
      "[CV] END max_depth=None, min_samples_leaf=2, min_samples_split=4, n_estimators=200; total time=21.1min\n",
      "[CV] END max_depth=None, min_samples_leaf=2, min_samples_split=6, n_estimators=100; total time=10.5min\n",
      "[CV] END max_depth=None, min_samples_leaf=2, min_samples_split=6, n_estimators=200; total time=20.4min\n",
      "[CV] END max_depth=None, min_samples_leaf=4, min_samples_split=2, n_estimators=100; total time= 9.6min\n",
      "[CV] END max_depth=None, min_samples_leaf=4, min_samples_split=4, n_estimators=50; total time= 4.8min\n",
      "[CV] END max_depth=None, min_samples_leaf=4, min_samples_split=4, n_estimators=50; total time= 4.9min\n",
      "[CV] END max_depth=None, min_samples_leaf=4, min_samples_split=4, n_estimators=100; total time= 9.5min\n",
      "[CV] END max_depth=None, min_samples_leaf=4, min_samples_split=4, n_estimators=200; total time=18.7min\n",
      "[CV] END max_depth=None, min_samples_leaf=4, min_samples_split=6, n_estimators=100; total time= 9.9min\n",
      "[CV] END max_depth=5, min_samples_leaf=1, min_samples_split=2, n_estimators=50; total time=  51.4s\n",
      "[CV] END max_depth=5, min_samples_leaf=1, min_samples_split=2, n_estimators=50; total time=  50.1s\n",
      "[CV] END max_depth=5, min_samples_leaf=1, min_samples_split=2, n_estimators=50; total time=  49.5s\n",
      "[CV] END max_depth=5, min_samples_leaf=1, min_samples_split=2, n_estimators=100; total time= 1.5min\n",
      "[CV] END max_depth=5, min_samples_leaf=1, min_samples_split=2, n_estimators=100; total time= 1.5min\n",
      "[CV] END max_depth=5, min_samples_leaf=1, min_samples_split=2, n_estimators=100; total time= 1.5min\n",
      "[CV] END max_depth=5, min_samples_leaf=1, min_samples_split=2, n_estimators=200; total time= 2.7min\n",
      "[CV] END max_depth=5, min_samples_leaf=1, min_samples_split=2, n_estimators=200; total time= 2.8min\n",
      "[CV] END max_depth=5, min_samples_leaf=1, min_samples_split=2, n_estimators=200; total time= 2.8min\n",
      "[CV] END max_depth=5, min_samples_leaf=1, min_samples_split=4, n_estimators=100; total time= 1.4min\n",
      "[CV] END max_depth=5, min_samples_leaf=1, min_samples_split=4, n_estimators=200; total time= 2.6min\n",
      "[CV] END max_depth=5, min_samples_leaf=1, min_samples_split=6, n_estimators=100; total time= 1.4min\n",
      "[CV] END max_depth=5, min_samples_leaf=1, min_samples_split=6, n_estimators=200; total time= 2.5min\n",
      "[CV] END max_depth=5, min_samples_leaf=2, min_samples_split=2, n_estimators=100; total time= 1.4min\n",
      "[CV] END max_depth=5, min_samples_leaf=2, min_samples_split=2, n_estimators=200; total time= 2.6min\n",
      "[CV] END max_depth=5, min_samples_leaf=2, min_samples_split=4, n_estimators=100; total time= 1.5min\n",
      "[CV] END max_depth=5, min_samples_leaf=2, min_samples_split=6, n_estimators=50; total time=  47.1s\n",
      "[CV] END max_depth=5, min_samples_leaf=2, min_samples_split=6, n_estimators=50; total time=  48.1s\n",
      "[CV] END max_depth=5, min_samples_leaf=2, min_samples_split=6, n_estimators=100; total time= 1.4min\n",
      "[CV] END max_depth=5, min_samples_leaf=2, min_samples_split=6, n_estimators=200; total time= 2.6min\n",
      "[CV] END max_depth=5, min_samples_leaf=4, min_samples_split=2, n_estimators=100; total time= 1.4min\n",
      "[CV] END max_depth=5, min_samples_leaf=4, min_samples_split=2, n_estimators=200; total time= 2.6min\n",
      "[CV] END max_depth=5, min_samples_leaf=4, min_samples_split=4, n_estimators=200; total time= 2.7min\n",
      "[CV] END max_depth=5, min_samples_leaf=4, min_samples_split=6, n_estimators=50; total time=  48.2s\n",
      "[CV] END max_depth=5, min_samples_leaf=4, min_samples_split=6, n_estimators=100; total time= 1.4min\n",
      "[CV] END max_depth=10, min_samples_leaf=1, min_samples_split=2, n_estimators=50; total time= 1.3min\n",
      "[CV] END max_depth=10, min_samples_leaf=1, min_samples_split=2, n_estimators=50; total time= 1.3min\n",
      "[CV] END max_depth=10, min_samples_leaf=1, min_samples_split=2, n_estimators=200; total time= 4.7min\n",
      "[CV] END max_depth=10, min_samples_leaf=1, min_samples_split=4, n_estimators=50; total time= 1.3min\n",
      "[CV] END max_depth=10, min_samples_leaf=1, min_samples_split=4, n_estimators=100; total time= 2.6min\n",
      "[CV] END max_depth=10, min_samples_leaf=1, min_samples_split=4, n_estimators=200; total time= 4.8min\n",
      "[CV] END max_depth=10, min_samples_leaf=1, min_samples_split=6, n_estimators=200; total time= 4.7min\n",
      "[CV] END max_depth=10, min_samples_leaf=2, min_samples_split=2, n_estimators=100; total time= 2.4min\n",
      "[CV] END max_depth=10, min_samples_leaf=2, min_samples_split=2, n_estimators=200; total time= 4.7min\n",
      "[CV] END max_depth=10, min_samples_leaf=2, min_samples_split=4, n_estimators=100; total time= 2.4min\n",
      "[CV] END max_depth=10, min_samples_leaf=2, min_samples_split=4, n_estimators=200; total time= 4.7min\n",
      "[CV] END max_depth=10, min_samples_leaf=2, min_samples_split=6, n_estimators=100; total time= 2.5min\n",
      "[CV] END max_depth=10, min_samples_leaf=4, min_samples_split=2, n_estimators=50; total time= 1.4min\n",
      "[CV] END max_depth=10, min_samples_leaf=4, min_samples_split=2, n_estimators=50; total time= 1.4min\n",
      "[CV] END max_depth=10, min_samples_leaf=4, min_samples_split=2, n_estimators=100; total time= 2.6min\n",
      "[CV] END max_depth=10, min_samples_leaf=4, min_samples_split=2, n_estimators=200; total time= 4.9min\n",
      "[CV] END max_depth=10, min_samples_leaf=4, min_samples_split=4, n_estimators=100; total time= 2.5min\n",
      "[CV] END max_depth=10, min_samples_leaf=4, min_samples_split=4, n_estimators=200; total time= 4.8min\n",
      "[CV] END max_depth=10, min_samples_leaf=4, min_samples_split=6, n_estimators=200; total time= 4.1min\n",
      "[CV] END max_depth=None, min_samples_leaf=1, min_samples_split=4, n_estimators=100; total time=11.1min\n",
      "[CV] END max_depth=None, min_samples_leaf=1, min_samples_split=4, n_estimators=200; total time=21.9min\n",
      "[CV] END max_depth=None, min_samples_leaf=1, min_samples_split=6, n_estimators=200; total time=22.7min\n",
      "[CV] END max_depth=None, min_samples_leaf=2, min_samples_split=2, n_estimators=100; total time=10.3min\n",
      "[CV] END max_depth=None, min_samples_leaf=2, min_samples_split=2, n_estimators=200; total time=20.4min\n",
      "[CV] END max_depth=None, min_samples_leaf=2, min_samples_split=4, n_estimators=100; total time=10.2min\n",
      "[CV] END max_depth=None, min_samples_leaf=2, min_samples_split=4, n_estimators=200; total time=20.0min\n",
      "[CV] END max_depth=None, min_samples_leaf=2, min_samples_split=6, n_estimators=200; total time=19.3min\n",
      "[CV] END max_depth=None, min_samples_leaf=4, min_samples_split=2, n_estimators=100; total time= 9.2min\n",
      "[CV] END max_depth=None, min_samples_leaf=4, min_samples_split=2, n_estimators=200; total time=18.0min\n",
      "[CV] END max_depth=None, min_samples_leaf=4, min_samples_split=4, n_estimators=100; total time=10.2min\n",
      "[CV] END max_depth=None, min_samples_leaf=4, min_samples_split=4, n_estimators=200; total time=20.3min\n",
      "[CV] END max_depth=None, min_samples_leaf=4, min_samples_split=6, n_estimators=200; total time=20.4min\n",
      "[CV] END max_depth=5, min_samples_leaf=1, min_samples_split=4, n_estimators=50; total time=  56.7s\n",
      "[CV] END max_depth=5, min_samples_leaf=1, min_samples_split=4, n_estimators=50; total time=  53.5s\n",
      "[CV] END max_depth=5, min_samples_leaf=1, min_samples_split=4, n_estimators=50; total time=  52.9s\n",
      "[CV] END max_depth=5, min_samples_leaf=1, min_samples_split=4, n_estimators=100; total time= 1.4min\n",
      "[CV] END max_depth=5, min_samples_leaf=1, min_samples_split=4, n_estimators=200; total time= 2.9min\n",
      "[CV] END max_depth=5, min_samples_leaf=1, min_samples_split=6, n_estimators=100; total time= 1.4min\n",
      "[CV] END max_depth=5, min_samples_leaf=2, min_samples_split=2, n_estimators=50; total time=  48.8s\n",
      "[CV] END max_depth=5, min_samples_leaf=2, min_samples_split=2, n_estimators=50; total time=  48.8s\n",
      "[CV] END max_depth=5, min_samples_leaf=2, min_samples_split=2, n_estimators=100; total time= 1.5min\n",
      "[CV] END max_depth=5, min_samples_leaf=2, min_samples_split=2, n_estimators=200; total time= 2.7min\n",
      "[CV] END max_depth=5, min_samples_leaf=2, min_samples_split=4, n_estimators=100; total time= 1.4min\n",
      "[CV] END max_depth=5, min_samples_leaf=2, min_samples_split=4, n_estimators=200; total time= 2.6min\n",
      "[CV] END max_depth=5, min_samples_leaf=2, min_samples_split=6, n_estimators=200; total time= 2.6min\n",
      "[CV] END max_depth=5, min_samples_leaf=4, min_samples_split=2, n_estimators=50; total time=  48.1s\n",
      "[CV] END max_depth=5, min_samples_leaf=4, min_samples_split=2, n_estimators=100; total time= 1.4min\n",
      "[CV] END max_depth=5, min_samples_leaf=4, min_samples_split=4, n_estimators=50; total time=  48.7s\n",
      "[CV] END max_depth=5, min_samples_leaf=4, min_samples_split=4, n_estimators=50; total time=  48.9s\n",
      "[CV] END max_depth=5, min_samples_leaf=4, min_samples_split=4, n_estimators=100; total time= 1.4min\n",
      "[CV] END max_depth=5, min_samples_leaf=4, min_samples_split=4, n_estimators=200; total time= 2.5min\n",
      "[CV] END max_depth=5, min_samples_leaf=4, min_samples_split=6, n_estimators=100; total time= 1.4min\n",
      "[CV] END max_depth=5, min_samples_leaf=4, min_samples_split=6, n_estimators=200; total time= 2.7min\n",
      "[CV] END max_depth=10, min_samples_leaf=1, min_samples_split=2, n_estimators=100; total time= 2.5min\n",
      "[CV] END max_depth=10, min_samples_leaf=1, min_samples_split=2, n_estimators=200; total time= 4.8min\n",
      "[CV] END max_depth=10, min_samples_leaf=1, min_samples_split=4, n_estimators=200; total time= 5.1min\n",
      "[CV] END max_depth=10, min_samples_leaf=1, min_samples_split=6, n_estimators=100; total time= 2.5min\n",
      "[CV] END max_depth=10, min_samples_leaf=1, min_samples_split=6, n_estimators=200; total time= 4.8min\n",
      "[CV] END max_depth=10, min_samples_leaf=2, min_samples_split=2, n_estimators=100; total time= 2.5min\n",
      "[CV] END max_depth=10, min_samples_leaf=2, min_samples_split=2, n_estimators=200; total time= 4.9min\n",
      "[CV] END max_depth=10, min_samples_leaf=2, min_samples_split=4, n_estimators=200; total time= 4.7min\n",
      "[CV] END max_depth=10, min_samples_leaf=2, min_samples_split=6, n_estimators=100; total time= 2.5min\n",
      "[CV] END max_depth=10, min_samples_leaf=2, min_samples_split=6, n_estimators=200; total time= 4.8min\n",
      "[CV] END max_depth=10, min_samples_leaf=4, min_samples_split=2, n_estimators=100; total time= 2.6min\n",
      "[CV] END max_depth=10, min_samples_leaf=4, min_samples_split=4, n_estimators=50; total time= 1.4min\n",
      "[CV] END max_depth=10, min_samples_leaf=4, min_samples_split=4, n_estimators=50; total time= 1.4min\n",
      "[CV] END max_depth=10, min_samples_leaf=4, min_samples_split=4, n_estimators=50; total time= 1.4min\n",
      "[CV] END max_depth=10, min_samples_leaf=4, min_samples_split=4, n_estimators=100; total time= 2.5min\n",
      "[CV] END max_depth=10, min_samples_leaf=4, min_samples_split=6, n_estimators=50; total time= 1.3min\n",
      "[CV] END max_depth=10, min_samples_leaf=4, min_samples_split=6, n_estimators=50; total time= 1.3min\n",
      "[CV] END max_depth=10, min_samples_leaf=4, min_samples_split=6, n_estimators=100; total time= 2.5min\n",
      "[CV] END max_depth=10, min_samples_leaf=4, min_samples_split=6, n_estimators=200; total time= 3.7min\n",
      "[CV] END max_depth=None, min_samples_leaf=1, min_samples_split=2, n_estimators=50; total time= 5.3min\n",
      "[CV] END max_depth=None, min_samples_leaf=1, min_samples_split=2, n_estimators=100; total time=10.5min\n",
      "[CV] END max_depth=None, min_samples_leaf=1, min_samples_split=4, n_estimators=50; total time= 5.3min\n",
      "[CV] END max_depth=None, min_samples_leaf=1, min_samples_split=4, n_estimators=50; total time= 5.4min\n",
      "[CV] END max_depth=None, min_samples_leaf=1, min_samples_split=4, n_estimators=100; total time=11.4min\n",
      "[CV] END max_depth=None, min_samples_leaf=1, min_samples_split=4, n_estimators=200; total time=22.5min\n",
      "[CV] END max_depth=None, min_samples_leaf=1, min_samples_split=6, n_estimators=100; total time=11.9min\n",
      "[CV] END max_depth=None, min_samples_leaf=1, min_samples_split=6, n_estimators=200; total time=23.2min\n",
      "[CV] END max_depth=None, min_samples_leaf=2, min_samples_split=2, n_estimators=200; total time=21.7min\n",
      "[CV] END max_depth=None, min_samples_leaf=2, min_samples_split=4, n_estimators=100; total time=10.6min\n",
      "[CV] END max_depth=None, min_samples_leaf=2, min_samples_split=4, n_estimators=200; total time=19.9min\n",
      "[CV] END max_depth=None, min_samples_leaf=2, min_samples_split=6, n_estimators=100; total time=10.1min\n",
      "[CV] END max_depth=None, min_samples_leaf=4, min_samples_split=2, n_estimators=50; total time= 4.6min\n",
      "[CV] END max_depth=None, min_samples_leaf=4, min_samples_split=2, n_estimators=50; total time= 4.7min\n",
      "[CV] END max_depth=None, min_samples_leaf=4, min_samples_split=2, n_estimators=50; total time= 4.9min\n",
      "[CV] END max_depth=None, min_samples_leaf=4, min_samples_split=2, n_estimators=100; total time= 9.1min\n",
      "[CV] END max_depth=None, min_samples_leaf=4, min_samples_split=2, n_estimators=200; total time=17.9min\n",
      "[CV] END max_depth=None, min_samples_leaf=4, min_samples_split=4, n_estimators=200; total time=19.5min\n",
      "[CV] END max_depth=None, min_samples_leaf=4, min_samples_split=6, n_estimators=100; total time= 9.9min\n",
      "[CV] END max_depth=None, min_samples_leaf=4, min_samples_split=6, n_estimators=200; total time=19.6min\n",
      "[CV] END max_depth=5, min_samples_leaf=1, min_samples_split=4, n_estimators=100; total time= 1.5min\n",
      "[CV] END max_depth=5, min_samples_leaf=1, min_samples_split=4, n_estimators=200; total time= 2.7min\n",
      "[CV] END max_depth=5, min_samples_leaf=1, min_samples_split=6, n_estimators=100; total time= 1.4min\n",
      "[CV] END max_depth=5, min_samples_leaf=1, min_samples_split=6, n_estimators=200; total time= 2.8min\n",
      "[CV] END max_depth=5, min_samples_leaf=2, min_samples_split=2, n_estimators=200; total time= 2.8min\n",
      "[CV] END max_depth=5, min_samples_leaf=2, min_samples_split=4, n_estimators=100; total time= 1.5min\n",
      "[CV] END max_depth=5, min_samples_leaf=2, min_samples_split=4, n_estimators=200; total time= 2.7min\n",
      "[CV] END max_depth=5, min_samples_leaf=2, min_samples_split=6, n_estimators=100; total time= 1.5min\n",
      "[CV] END max_depth=5, min_samples_leaf=4, min_samples_split=2, n_estimators=50; total time=  49.6s\n",
      "[CV] END max_depth=5, min_samples_leaf=4, min_samples_split=2, n_estimators=50; total time=  48.0s\n",
      "[CV] END max_depth=5, min_samples_leaf=4, min_samples_split=2, n_estimators=100; total time= 1.4min\n",
      "[CV] END max_depth=5, min_samples_leaf=4, min_samples_split=2, n_estimators=200; total time= 2.6min\n",
      "[CV] END max_depth=5, min_samples_leaf=4, min_samples_split=4, n_estimators=100; total time= 1.4min\n",
      "[CV] END max_depth=5, min_samples_leaf=4, min_samples_split=4, n_estimators=200; total time= 2.6min\n",
      "[CV] END max_depth=5, min_samples_leaf=4, min_samples_split=6, n_estimators=200; total time= 2.7min\n",
      "[CV] END max_depth=10, min_samples_leaf=1, min_samples_split=2, n_estimators=50; total time= 1.3min\n",
      "[CV] END max_depth=10, min_samples_leaf=1, min_samples_split=2, n_estimators=100; total time= 2.5min\n",
      "[CV] END max_depth=10, min_samples_leaf=1, min_samples_split=4, n_estimators=50; total time= 1.4min\n",
      "[CV] END max_depth=10, min_samples_leaf=1, min_samples_split=4, n_estimators=50; total time= 1.3min\n",
      "[CV] END max_depth=10, min_samples_leaf=1, min_samples_split=4, n_estimators=100; total time= 2.6min\n",
      "[CV] END max_depth=10, min_samples_leaf=1, min_samples_split=4, n_estimators=200; total time= 5.0min\n",
      "[CV] END max_depth=10, min_samples_leaf=1, min_samples_split=6, n_estimators=100; total time= 2.4min\n",
      "[CV] END max_depth=10, min_samples_leaf=1, min_samples_split=6, n_estimators=200; total time= 4.7min\n",
      "[CV] END max_depth=10, min_samples_leaf=2, min_samples_split=2, n_estimators=200; total time= 4.7min\n",
      "[CV] END max_depth=10, min_samples_leaf=2, min_samples_split=4, n_estimators=100; total time= 2.5min\n",
      "[CV] END max_depth=10, min_samples_leaf=2, min_samples_split=4, n_estimators=200; total time= 4.8min\n",
      "[CV] END max_depth=10, min_samples_leaf=2, min_samples_split=6, n_estimators=100; total time= 2.5min\n",
      "[CV] END max_depth=10, min_samples_leaf=2, min_samples_split=6, n_estimators=200; total time= 4.9min\n",
      "[CV] END max_depth=10, min_samples_leaf=4, min_samples_split=2, n_estimators=200; total time= 4.9min\n",
      "[CV] END max_depth=10, min_samples_leaf=4, min_samples_split=4, n_estimators=100; total time= 2.4min\n",
      "[CV] END max_depth=10, min_samples_leaf=4, min_samples_split=4, n_estimators=200; total time= 4.7min\n",
      "[CV] END max_depth=10, min_samples_leaf=4, min_samples_split=6, n_estimators=100; total time= 2.5min\n",
      "[CV] END max_depth=10, min_samples_leaf=4, min_samples_split=6, n_estimators=200; total time= 3.6min\n"
     ]
    }
   ],
   "source": [
    "rf_model = RandomForestClassifier(random_state=42)\n",
    "param_grid_rf = {\n",
    "    'n_estimators': [50, 100, 200],\n",
    "    'max_depth': [None, 5, 10],\n",
    "    'min_samples_split': [2, 4, 6],\n",
    "    'min_samples_leaf': [1, 2, 4]\n",
    "}\n",
    "grid_search_rf = GridSearchCV(estimator=rf_model, param_grid=param_grid_rf, cv=3, n_jobs=-1, verbose=2)\n",
    "grid_search_rf.fit(X_train, y_train)\n",
    "best_rf = grid_search_rf.best_estimator_"
   ]
  },
  {
   "cell_type": "code",
   "execution_count": 13,
   "id": "11151a2a",
   "metadata": {
    "execution": {
     "iopub.execute_input": "2024-05-16T01:36:55.878548Z",
     "iopub.status.busy": "2024-05-16T01:36:55.878151Z",
     "iopub.status.idle": "2024-05-16T01:36:55.883420Z",
     "shell.execute_reply": "2024-05-16T01:36:55.882290Z"
    },
    "papermill": {
     "duration": 0.014105,
     "end_time": "2024-05-16T01:36:55.885516",
     "exception": false,
     "start_time": "2024-05-16T01:36:55.871411",
     "status": "completed"
    },
    "tags": []
   },
   "outputs": [],
   "source": [
    "models = {\n",
    "    'Random Forest': best_rf,\n",
    "}"
   ]
  },
  {
   "cell_type": "code",
   "execution_count": 14,
   "id": "e0d12158",
   "metadata": {
    "execution": {
     "iopub.execute_input": "2024-05-16T01:36:55.898405Z",
     "iopub.status.busy": "2024-05-16T01:36:55.897956Z",
     "iopub.status.idle": "2024-05-16T01:36:55.909185Z",
     "shell.execute_reply": "2024-05-16T01:36:55.907715Z"
    },
    "papermill": {
     "duration": 0.020578,
     "end_time": "2024-05-16T01:36:55.911558",
     "exception": false,
     "start_time": "2024-05-16T01:36:55.890980",
     "status": "completed"
    },
    "tags": []
   },
   "outputs": [
    {
     "name": "stdout",
     "output_type": "stream",
     "text": [
      "{'max_depth': None, 'min_samples_leaf': 1, 'min_samples_split': 6, 'n_estimators': 200}\n",
      "RandomForestClassifier(min_samples_split=6, n_estimators=200, random_state=42)\n"
     ]
    }
   ],
   "source": [
    "print(grid_search_rf.best_params_)\n",
    "print(grid_search_rf.best_estimator_)"
   ]
  },
  {
   "cell_type": "code",
   "execution_count": 15,
   "id": "a5ff9837",
   "metadata": {
    "execution": {
     "iopub.execute_input": "2024-05-16T01:36:55.925763Z",
     "iopub.status.busy": "2024-05-16T01:36:55.925340Z",
     "iopub.status.idle": "2024-05-16T01:37:11.091678Z",
     "shell.execute_reply": "2024-05-16T01:37:11.089952Z"
    },
    "papermill": {
     "duration": 15.176904,
     "end_time": "2024-05-16T01:37:11.094236",
     "exception": false,
     "start_time": "2024-05-16T01:36:55.917332",
     "status": "completed"
    },
    "tags": []
   },
   "outputs": [
    {
     "data": {
      "image/png": "[encoded data removed]",
      "text/plain": [
       "<Figure size 500x500 with 1 Axes>"
      ]
     },
     "metadata": {},
     "output_type": "display_data"
    },
    {
     "name": "stdout",
     "output_type": "stream",
     "text": [
      "Saved Random Forest model as Random Forest_model.pkl\n",
      "\n"
     ]
    }
   ],
   "source": [
    "for name, model in models.items():\n",
    "    y_pred = model.predict(X_test)\n",
    "    cm = confusion_matrix(y_test, y_pred)\n",
    "    plt.figure(figsize=(5, 5))\n",
    "    sns.heatmap(cm, annot=True, cmap='Blues', fmt='g', cbar=False)\n",
    "    plt.title(f'Random Forest Confusion Matrix')\n",
    "    plt.xlabel('Predicted')\n",
    "    plt.ylabel('Actual')\n",
    "    plt.show()\n",
    "\n",
    "    model_name = f'{name}_model.pkl'\n",
    "    joblib.dump(model, model_name)\n",
    "    print(f'Saved {name} model as {model_name}\\n')"
   ]
  }
 ],
 "metadata": {
  "kaggle": {
   "accelerator": "none",
   "dataSources": [
    {
     "datasetId": 4919336,
     "sourceId": 8282926,
     "sourceType": "datasetVersion"
    },
    {
     "datasetId": 5011088,
     "sourceId": 8418068,
     "sourceType": "datasetVersion"
    },
    {
     "datasetId": 5012664,
     "sourceId": 8420140,
     "sourceType": "datasetVersion"
    }
   ],
   "dockerImageVersionId": 30698,
   "isGpuEnabled": false,
   "isInternetEnabled": true,
   "language": "python",
   "sourceType": "notebook"
  },
  "kernelspec": {
   "display_name": "Python 3",
   "language": "python",
   "name": "python3"
  },
  "language_info": {
   "codemirror_mode": {
    "name": "ipython",
    "version": 3
   },
   "file_extension": ".py",
   "mimetype": "text/x-python",
   "name": "python",
   "nbconvert_exporter": "python",
   "pygments_lexer": "ipython3",
   "version": "3.10.13"
  },
  "papermill": {
   "default_parameters": {},
   "duration": 21454.944905,
   "end_time": "2024-05-16T01:37:14.024018",
   "environment_variables": {},
   "exception": null,
   "input_path": "__notebook__.ipynb",
   "output_path": "__notebook__.ipynb",
   "parameters": {},
   "start_time": "2024-05-15T19:39:39.079113",
   "version": "2.5.0"
  }
 },
 "nbformat": 4,
 "nbformat_minor": 5
}
