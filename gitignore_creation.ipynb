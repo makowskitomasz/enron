{
 "cells": [
  {
   "cell_type": "code",
   "execution_count": 6,
   "metadata": {},
   "outputs": [
    {
     "name": "stdout",
     "output_type": "stream",
     "text": [
      "/home/makowskitomasz/enron/maildir\n",
      "Directories containing specified files have been added to .gitignore.\n"
     ]
    }
   ],
   "source": [
    "import os\n",
    "\n",
    "root_dir = os.getcwd() + '/maildir'\n",
    "print(root_dir)\n",
    "\n",
    "ignored_dirs = set()\n",
    "\n",
    "# Walk through the directory\n",
    "for dirpath, dirnames, filenames in os.walk(root_dir):\n",
    "    # Check each file in the current directory\n",
    "    for filename in filenames:\n",
    "        if filename.endswith('.'):  # Adjust this condition based on your exact needs\n",
    "            if any(char.isdigit() for char in filename[:-1]):  # Check if name (excluding '.') ends with a digit\n",
    "                ignored_dirs.add(dirpath)\n",
    "                break  # No need to check more files in this directory\n",
    "\n",
    "# Generate .gitignore content\n",
    "# with open(os.path.join(root_dir, '.gitignore'), 'a') as f:\n",
    "#     for dir in ignored_dirs:\n",
    "#         # Write the relative path of the directory to .gitignore\n",
    "#         rel_path = os.path.relpath(dir, root_dir)\n",
    "#         f.write(f'/maildir/{rel_path}/*\\n')  # Ignore everything in the directory\n",
    "\n",
    "print(\"Directories containing specified files have been added to .gitignore.\")"
   ]
  }
 ],
 "metadata": {
  "kernelspec": {
   "display_name": "ml",
   "language": "python",
   "name": "python3"
  },
  "language_info": {
   "codemirror_mode": {
    "name": "ipython",
    "version": 3
   },
   "file_extension": ".py",
   "mimetype": "text/x-python",
   "name": "python",
   "nbconvert_exporter": "python",
   "pygments_lexer": "ipython3",
   "version": "3.10.13"
  }
 },
 "nbformat": 4,
 "nbformat_minor": 2
}
